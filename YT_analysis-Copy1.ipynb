{
 "cells": [
  {
   "cell_type": "code",
   "execution_count": 2,
   "id": "97a3bcc6",
   "metadata": {
    "scrolled": false
   },
   "outputs": [],
   "source": [
    "# General imports\n",
    "import pandas as pd\n",
    "import numpy as np\n",
    "import os # to create my \"temp\" file storing thumbnail images\n",
    "import googleapiclient.discovery # from console.cloud.google.com API key for retrieving YT data\n",
    "import urllib.request # Retrieving the thumbnail images from their URLs\n",
    "from PIL import Image # For opening images in a specified directory\n",
    "import shutil # for deleting the \"temp\" file of stored thumbnails at the end of the session\n",
    "import cv2 # OpenCV for image processing -- in this case face detection\n",
    "import matplotlib.pyplot as plt # For plotting the images with faces detected"
   ]
  },
  {
   "cell_type": "code",
   "execution_count": null,
   "id": "c0aa13a7",
   "metadata": {},
   "outputs": [],
   "source": [
    "# imports for string cleaning, preperation, and sentiment analysis\n",
    "\n",
    "import nltk # Used for sentiment analysis for string variables\n",
    "nltk.download('all') # downloads the pre-trained models used for Natural language processing (NLP) tasks\n",
    "\n",
    "from nltk.sentiment.vader import SentimentIntensityAnalyzer\n",
    "from nltk.corpus import stopwords # stopword removal -- words such as 'and', 'the', 'of' that hold no sentiment\n",
    "from nltk.tokenize import word_tokenize # breaks strings into individual words (aka tokens)\n",
    "from nltk.stem import WordNetLemmatizer # Reduces words to their root forms, eg. removing 'ing' or 'ed'\n",
    "# Note: lemmatization involves reducing words to their base form based on their part of speech... \n",
    "# eg. \"jumping\" would be lemmatized to \"jumping\" since it is a present participle"
   ]
  },
  {
   "cell_type": "code",
   "execution_count": null,
   "id": "49d1073f",
   "metadata": {},
   "outputs": [],
   "source": [
    "# Imports needed for Regression modeling\n",
    "\n",
    "import seaborn as sns # for correlation matrix/pairwise scatter plotting\n",
    "\n",
    "# The linear Regression models I'll be comparing\n",
    "from sklearn import linear_model\n",
    "from sklearn.linear_model import LinearRegression\n",
    "from sklearn.linear_model import Ridge\n",
    "from sklearn.linear_model import Lasso\n",
    "from sklearn.linear_model import ElasticNet\n",
    "\n",
    "from sklearn.model_selection import GridSearchCV # Cross validation Grid search for parameter-error optomization \n",
    "\n",
    "from sklearn.metrics import mean_squared_error as mse # The chosen cost metric for measuring and comparing model error\n",
    "\n",
    "from scipy.stats import pearsonr # Calculating P-values for correlation\n",
    "\n",
    "from sklearn.preprocessing import scale # Feature scaling/Normalization\n",
    "\n",
    "from sklearn.model_selection import train_test_split # For testing/training set splitting\n",
    "\n",
    "import warnings\n",
    "warnings.filterwarnings('ignore')"
   ]
  },
  {
   "cell_type": "code",
   "execution_count": null,
   "id": "001702a9",
   "metadata": {},
   "outputs": [],
   "source": []
  },
  {
   "cell_type": "code",
   "execution_count": 3,
   "id": "63dc9908",
   "metadata": {},
   "outputs": [],
   "source": [
    "API_KEY = 'YOUR_API_KEY' # Retrieved from console.cloud.google.com"
   ]
  },
  {
   "cell_type": "code",
   "execution_count": 13,
   "id": "a892fa53",
   "metadata": {},
   "outputs": [],
   "source": [
    "def get_most_watched_videos(api_key, max_results=10):\n",
    "    youtube = googleapiclient.discovery.build('youtube', 'v3', developerKey=api_key)\n",
    "\n",
    "    # Get videos in the \"most popular\" category for the past 24 hours\n",
    "    request = youtube.videos().list(\n",
    "        part='snippet,statistics',  # Include 'statistics' to get viewCount, likeCount, commentCount\n",
    "        chart='mostPopular',\n",
    "        regionCode='US',  # Using the US region code\n",
    "        maxResults=max_results\n",
    "    )\n",
    "\n",
    "    response = request.execute()\n",
    "    # Extract the title, link, viewCount, likeCount, and commentCount of each video\n",
    "    videos = []\n",
    "    for item in response['items']:\n",
    "        title = item['snippet']['title']\n",
    "        video_id = item['id']\n",
    "        video_url = f'https://www.youtube.com/watch?v={video_id}'\n",
    "        view_count = item['statistics']['viewCount']\n",
    "        like_count = item['statistics']['likeCount']\n",
    "        comment_count = item['statistics']['commentCount']\n",
    "        \n",
    "        videos.append({\n",
    "            'title': title,\n",
    "            'url': video_url,\n",
    "            'views': view_count,\n",
    "            'likes': like_count,\n",
    "            'comments': comment_count\n",
    "        })\n",
    "\n",
    "    return videos, response"
   ]
  },
  {
   "cell_type": "code",
   "execution_count": 14,
   "id": "6613a3fc",
   "metadata": {
    "scrolled": true
   },
   "outputs": [
    {
     "name": "stdout",
     "output_type": "stream",
     "text": [
      "Most Watched Videos in the Past 24 Hours:\n",
      "1. Drake - 8AM In Charlotte\n",
      "   Link: https://www.youtube.com/watch?v=VEW9E1EIQ1M\n",
      "   Views: 1163234\n",
      "   Likes: 77950\n",
      "   Comments: 4626\n",
      "\n",
      "2. Drake - First Person Shooter (Audio) ft. J. Cole\n",
      "   Link: https://www.youtube.com/watch?v=sRs2o36a1Us\n",
      "   Views: 857483\n",
      "   Likes: 44822\n",
      "   Comments: 2750\n",
      "\n",
      "3. People Order a Dream Home, I Build Their Nightmare - Hometopia\n",
      "   Link: https://www.youtube.com/watch?v=OzYxBrgtUSo\n",
      "   Views: 1215651\n",
      "   Likes: 66368\n",
      "   Comments: 2675\n",
      "\n",
      "4. VIDEO GAME HOUSE 6\n",
      "   Link: https://www.youtube.com/watch?v=i8r4h29tEWQ\n",
      "   Views: 1097346\n",
      "   Likes: 141481\n",
      "   Comments: 13003\n",
      "\n",
      "5. Guess The Secret NBA Player ft. Giannis Antetokounmpo\n",
      "   Link: https://www.youtube.com/watch?v=BGzGPyUKS1Q\n",
      "   Views: 1807496\n",
      "   Likes: 76553\n",
      "   Comments: 1431\n",
      "\n",
      "6. JENNIE - ‘You & Me’ DANCE PERFORMANCE VIDEO\n",
      "   Link: https://www.youtube.com/watch?v=eQNHDV7lKgE\n",
      "   Views: 13169165\n",
      "   Likes: 1838992\n",
      "   Comments: 133296\n",
      "\n",
      "7. Cody Ko Sabotages Dates | The Button | Cut\n",
      "   Link: https://www.youtube.com/watch?v=VOO91w2AeQE\n",
      "   Views: 561349\n",
      "   Likes: 39904\n",
      "   Comments: 1272\n",
      "\n",
      "8. Virginia Beach\n",
      "   Link: https://www.youtube.com/watch?v=mckg2Eo51Qo\n",
      "   Views: 1349005\n",
      "   Likes: 38265\n",
      "   Comments: 1984\n",
      "\n",
      "9. Wild Ones\n",
      "   Link: https://www.youtube.com/watch?v=3BY2iE5RIZw\n",
      "   Views: 176452\n",
      "   Likes: 13670\n",
      "   Comments: 280\n",
      "\n",
      "10. Tyla - Water (Official Music Video)\n",
      "   Link: https://www.youtube.com/watch?v=XoiOOiuH8iI\n",
      "   Views: 1344924\n",
      "   Likes: 92853\n",
      "   Comments: 3190\n",
      "\n"
     ]
    }
   ],
   "source": [
    "if __name__ == '__main__':\n",
    "    most_watched_videos, full_data = get_most_watched_videos(API_KEY)\n",
    "\n",
    "    # Display the most watched videos with view count, like count, and comment count\n",
    "    print(\"Most Watched Videos in the Past 24 Hours:\")\n",
    "    for idx, video in enumerate(most_watched_videos, start=1):\n",
    "        print(f\"{idx}. {video['title']}\")\n",
    "        print(f\"   Link: {video['url']}\")\n",
    "        print(f\"   Views: {video['views']}\")\n",
    "        print(f\"   Likes: {video['likes']}\")\n",
    "        print(f\"   Comments: {video['comments']}\\n\")"
   ]
  },
  {
   "cell_type": "code",
   "execution_count": 15,
   "id": "bbfdc6cb",
   "metadata": {},
   "outputs": [
    {
     "name": "stdout",
     "output_type": "stream",
     "text": [
      "title:  Drake - 8AM In Charlotte \n",
      "Number of tags:  8\n",
      "title:  Drake - First Person Shooter (Audio) ft. J. Cole \n",
      "Number of tags:  8\n",
      "title:  People Order a Dream Home, I Build Their Nightmare - Hometopia \n",
      "Number of tags:  28\n",
      "title:  Guess The Secret NBA Player ft. Giannis Antetokounmpo \n",
      "Number of tags:  18\n",
      "title:  JENNIE - ‘You & Me’ DANCE PERFORMANCE VIDEO \n",
      "Number of tags:  28\n",
      "title:  Cody Ko Sabotages Dates | The Button | Cut \n",
      "Number of tags:  31\n",
      "title:  Virginia Beach \n",
      "Number of tags:  4\n",
      "title:  Wild Ones \n",
      "Number of tags:  4\n",
      "title:  Tyla - Water (Official Music Video) \n",
      "Number of tags:  33\n"
     ]
    }
   ],
   "source": [
    "# Finding the number of tags each top video has\n",
    "tagged = {}\n",
    "untagged = []\n",
    "\n",
    "for item in full_data['items']:\n",
    "    title = item['snippet']['title']\n",
    "    try:\n",
    "        tagged[title] = item['snippet']['tags']\n",
    "    except:\n",
    "        untagged.append(title)\n",
    "        \n",
    "        \n",
    "for key in tagged.keys():\n",
    "    print('title: ', key, '\\nNumber of tags: ', len(tagged[key]))"
   ]
  },
  {
   "cell_type": "code",
   "execution_count": 16,
   "id": "d4159059",
   "metadata": {
    "scrolled": true
   },
   "outputs": [],
   "source": [
    "# Transforming the raw data to a DF with my index values as the parameters I want. Setting video ID as the column\n",
    "\n",
    "index = ['title', 'channelTitle', 'channelId', 'publishedAt', 'description', 'thumbnails', 'tags', 'categoryId', \n",
    "         'liveBroadcastContent', 'defaultLanguage', 'localized', 'defaultAudioLanguage', 'viewCount', 'likeCount', \n",
    "         'favoriteCount', 'commentCount']\n",
    "\n",
    "def dict_to_df(data):\n",
    "    \n",
    "    df = pd.DataFrame(index = index)\n",
    "    \n",
    "    for item in data['items']:\n",
    "        video_id = item['id']\n",
    "        df[video_id] = np.nan\n",
    "        \n",
    "        for value in item['snippet']:\n",
    "            try:\n",
    "                df[video_id].loc[value] = item['snippet'][value]\n",
    "            except:\n",
    "                df[video_id].loc[value] = np.nan\n",
    "            \n",
    "        for value in item['statistics']:\n",
    "            try:\n",
    "                df[video_id].loc[value] = item['statistics'][value]\n",
    "            except:\n",
    "                df[video_id].loc[value] = np.nan\n",
    "\n",
    "    return df\n",
    "\n",
    "pd.options.mode.chained_assignment = None\n",
    "most_viewed_df = dict_to_df(full_data)"
   ]
  },
  {
   "cell_type": "code",
   "execution_count": null,
   "id": "8179ed42",
   "metadata": {},
   "outputs": [],
   "source": []
  },
  {
   "cell_type": "code",
   "execution_count": 17,
   "id": "600d5444",
   "metadata": {},
   "outputs": [],
   "source": [
    "# Creating a copy of the output df from above and using these data to extract the max resolution thumbnails for each video\n",
    "# or the default resolution for videos without high res. URLs are appended to the thumbnails list\n",
    "\n",
    "df = most_viewed_df.copy()\n",
    "thumbnails = []\n",
    "for item in df.loc['thumbnails']:\n",
    "    try:\n",
    "        thumbnails.append(item['maxres']['url'])\n",
    "    except:\n",
    "        thumbnails.append(item['default']['url'])"
   ]
  },
  {
   "cell_type": "code",
   "execution_count": 18,
   "id": "f7134181",
   "metadata": {},
   "outputs": [],
   "source": [
    "# Using OpenCV to count the number of faces that are in each thumbnail\n",
    "\n",
    "def detect_faces(URLS):\n",
    "    # Creating a \"temp_\" file in the WD to store the thumbnails temperarily\n",
    "    current_directory = os.getcwd()\n",
    "    final_directory = os.path.join(current_directory, r'temp_')\n",
    "    if not os.path.exists(final_directory):\n",
    "       os.makedirs(final_directory)\n",
    "    \n",
    "    num_faces = {}\n",
    "    imagess = []\n",
    "    facess = []\n",
    "    # Instantiating the pretrained classifier from OpenCV to an object 'face_cascade'\n",
    "    face_cascade = cv2.CascadeClassifier(cv2.data.haarcascades + 'haarcascade_frontalface_default.xml')\n",
    "    \n",
    "    # Saving the images to the temp file with unique names, then reading the image with OpenCV 'imread' function, converting to\n",
    "    # greyscale, then using the classifier to identify the faces in the images.\n",
    "    # Face and image arrays are also returned for image plotting if wanted\n",
    "    for number in range(0, len(thumbnails)):\n",
    "        for URL in URLS:\n",
    "            urllib.request.urlretrieve(URL, f'temp_/thumbnail{number}.jpg')\n",
    "        \n",
    "            imagePath = f'temp_/thumbnail{number}.jpg'\n",
    "            image = cv2.imread(imagePath)\n",
    "            imagess.append(image)\n",
    "            image_gray = cv2.cvtColor(image, cv2.COLOR_BGR2GRAY)\n",
    "            faces = face_cascade.detectMultiScale(image_gray)\n",
    "            facess.append(faces)\n",
    "            num_faces[URL] = len(faces)\n",
    "            \n",
    "    return num_faces, imagess, facess"
   ]
  },
  {
   "cell_type": "code",
   "execution_count": 19,
   "id": "871eaf4a",
   "metadata": {},
   "outputs": [],
   "source": [
    "num_faces, imagess, facess = detect_faces(thumbnails)"
   ]
  },
  {
   "cell_type": "code",
   "execution_count": 20,
   "id": "ddeb0359",
   "metadata": {},
   "outputs": [
    {
     "data": {
      "text/plain": [
       "{'https://i.ytimg.com/vi/VEW9E1EIQ1M/maxresdefault.jpg': 0,\n",
       " 'https://i.ytimg.com/vi/sRs2o36a1Us/maxresdefault.jpg': 0,\n",
       " 'https://i.ytimg.com/vi/OzYxBrgtUSo/maxresdefault.jpg': 1,\n",
       " 'https://i.ytimg.com/vi/i8r4h29tEWQ/maxresdefault.jpg': 2,\n",
       " 'https://i.ytimg.com/vi/BGzGPyUKS1Q/maxresdefault.jpg': 3,\n",
       " 'https://i.ytimg.com/vi/eQNHDV7lKgE/maxresdefault.jpg': 1,\n",
       " 'https://i.ytimg.com/vi/VOO91w2AeQE/maxresdefault.jpg': 3,\n",
       " 'https://i.ytimg.com/vi/mckg2Eo51Qo/maxresdefault.jpg': 1,\n",
       " 'https://i.ytimg.com/vi/3BY2iE5RIZw/maxresdefault.jpg': 4,\n",
       " 'https://i.ytimg.com/vi/XoiOOiuH8iI/maxresdefault.jpg': 1}"
      ]
     },
     "execution_count": 20,
     "metadata": {},
     "output_type": "execute_result"
    }
   ],
   "source": [
    "num_faces # as i said.. this is a really bad face recognition classifier lol"
   ]
  },
  {
   "cell_type": "code",
   "execution_count": 11,
   "id": "52ab454a",
   "metadata": {
    "scrolled": false
   },
   "outputs": [],
   "source": [
    "# Used to produce images of the thumbnails with the detected faces being identified with a rectangle.. needs work to produce\n",
    "# a clean output... but the classifier is so bad this isnt really worth the time i think\n",
    "\n",
    "# for (image, face) in zip(imagess, facess):\n",
    "#     for x, y, width, height in face:\n",
    "#         cv2.rectangle(image, (x, y), (x + width, y + height), color=(255, 0, 0), thickness=2)\n",
    "    \n",
    "#     img_rgb = cv2.cvtColor(image, cv2.COLOR_BGR2RGB)\n",
    "#     plt.figure(figsize=(20,10))\n",
    "#     plt.imshow(img_rgb)\n",
    "#     plt.axis('off')"
   ]
  },
  {
   "cell_type": "code",
   "execution_count": 21,
   "id": "92febfb5",
   "metadata": {},
   "outputs": [],
   "source": [
    "shutil.rmtree('temp_') # Removes the temp file storing the thumbnails"
   ]
  },
  {
   "cell_type": "code",
   "execution_count": null,
   "id": "9515a6be",
   "metadata": {},
   "outputs": [],
   "source": []
  },
  {
   "cell_type": "code",
   "execution_count": null,
   "id": "4a96262f",
   "metadata": {},
   "outputs": [],
   "source": []
  },
  {
   "cell_type": "code",
   "execution_count": null,
   "id": "4c8a1507",
   "metadata": {},
   "outputs": [],
   "source": []
  },
  {
   "cell_type": "code",
   "execution_count": null,
   "id": "133d5d32",
   "metadata": {},
   "outputs": [],
   "source": []
  },
  {
   "cell_type": "code",
   "execution_count": 29,
   "id": "2a285616",
   "metadata": {},
   "outputs": [],
   "source": [
    "# Selecting the description data from the df and transposing the columns\n",
    "description = df.loc[['description']].T"
   ]
  },
  {
   "cell_type": "code",
   "execution_count": 35,
   "id": "b9d765a5",
   "metadata": {},
   "outputs": [],
   "source": [
    "# create preprocess_text function\n",
    "def string_prep(string):\n",
    "    \n",
    "    # Tokenize the text\n",
    "    tokens = word_tokenize(string.lower())\n",
    "\n",
    "    # Remove stop words\n",
    "    filtered_tokens = [token for token in tokens if token not in stopwords.words('english')]\n",
    "\n",
    "    # Lemmatize the tokens\n",
    "    lemmatizer = WordNetLemmatizer()\n",
    "    lemmatized_tokens = [lemmatizer.lemmatize(token) for token in filtered_tokens]\n",
    "\n",
    "    # Join the tokens back into a string\n",
    "    prepared_string = ' '.join(lemmatized_tokens)\n",
    "\n",
    "    return prepared_string"
   ]
  },
  {
   "cell_type": "code",
   "execution_count": 36,
   "id": "c7213fe4",
   "metadata": {},
   "outputs": [
    {
     "data": {
      "text/html": [
       "<div>\n",
       "<style scoped>\n",
       "    .dataframe tbody tr th:only-of-type {\n",
       "        vertical-align: middle;\n",
       "    }\n",
       "\n",
       "    .dataframe tbody tr th {\n",
       "        vertical-align: top;\n",
       "    }\n",
       "\n",
       "    .dataframe thead th {\n",
       "        text-align: right;\n",
       "    }\n",
       "</style>\n",
       "<table border=\"1\" class=\"dataframe\">\n",
       "  <thead>\n",
       "    <tr style=\"text-align: right;\">\n",
       "      <th></th>\n",
       "      <th>description</th>\n",
       "    </tr>\n",
       "  </thead>\n",
       "  <tbody>\n",
       "    <tr>\n",
       "      <th>VEW9E1EIQ1M</th>\n",
       "      <td>directed zong li executive producer : vince tr...</td>\n",
       "    </tr>\n",
       "    <tr>\n",
       "      <th>sRs2o36a1Us</th>\n",
       "      <td>music video drake performing first person shoo...</td>\n",
       "    </tr>\n",
       "    <tr>\n",
       "      <th>OzYxBrgtUSo</th>\n",
       "      <td>pro renovation tip : client firmly request fea...</td>\n",
       "    </tr>\n",
       "    <tr>\n",
       "      <th>i8r4h29tEWQ</th>\n",
       "      <td>everyone 's getting debut episode ! better wor...</td>\n",
       "    </tr>\n",
       "    <tr>\n",
       "      <th>BGzGPyUKS1Q</th>\n",
       "      <td>might insane collab 've ever done channel ... ...</td>\n",
       "    </tr>\n",
       "    <tr>\n",
       "      <th>eQNHDV7lKgE</th>\n",
       "      <td>jennie - &amp; know gotcha know got like ’ nobody ...</td>\n",
       "    </tr>\n",
       "    <tr>\n",
       "      <th>VOO91w2AeQE</th>\n",
       "      <td>cringeyyyyy . 🛒 🍻 shop cut game ! → http : //c...</td>\n",
       "    </tr>\n",
       "    <tr>\n",
       "      <th>mckg2Eo51Qo</th>\n",
       "      <td>provided youtube universal music group virgini...</td>\n",
       "    </tr>\n",
       "    <tr>\n",
       "      <th>3BY2iE5RIZw</th>\n",
       "      <td>provided youtube columbia wild one · jessie mu...</td>\n",
       "    </tr>\n",
       "    <tr>\n",
       "      <th>XoiOOiuH8iI</th>\n",
       "      <td>tyla - water ( official music video ) listen “...</td>\n",
       "    </tr>\n",
       "  </tbody>\n",
       "</table>\n",
       "</div>"
      ],
      "text/plain": [
       "                                                   description\n",
       "VEW9E1EIQ1M  directed zong li executive producer : vince tr...\n",
       "sRs2o36a1Us  music video drake performing first person shoo...\n",
       "OzYxBrgtUSo  pro renovation tip : client firmly request fea...\n",
       "i8r4h29tEWQ  everyone 's getting debut episode ! better wor...\n",
       "BGzGPyUKS1Q  might insane collab 've ever done channel ... ...\n",
       "eQNHDV7lKgE  jennie - & know gotcha know got like ’ nobody ...\n",
       "VOO91w2AeQE  cringeyyyyy . 🛒 🍻 shop cut game ! → http : //c...\n",
       "mckg2Eo51Qo  provided youtube universal music group virgini...\n",
       "3BY2iE5RIZw  provided youtube columbia wild one · jessie mu...\n",
       "XoiOOiuH8iI  tyla - water ( official music video ) listen “..."
      ]
     },
     "execution_count": 36,
     "metadata": {},
     "output_type": "execute_result"
    }
   ],
   "source": [
    "# Applying the string preperation function to the transposed description data\n",
    "description['description'] = description['description'].apply(string_prep)\n",
    "description"
   ]
  },
  {
   "cell_type": "code",
   "execution_count": 40,
   "id": "68073387",
   "metadata": {},
   "outputs": [],
   "source": [
    "# instantiating the NLTK sentiment analyzer to the object 'analyzer'\n",
    "analyzer = SentimentIntensityAnalyzer()\n",
    "\n",
    "# Analyses the cleaned data for sentiment using the NLTK sentiment analyzer\n",
    "def get_sentiment_binary(text):\n",
    "    scores = analyzer.polarity_scores(text)\n",
    "    sentiment = 1 if scores['pos'] > 0 else 0 # Creating a binary output of 1 for positive, and 0 for neutral/negative\n",
    "    return sentiment"
   ]
  },
  {
   "cell_type": "code",
   "execution_count": 41,
   "id": "d15450e5",
   "metadata": {},
   "outputs": [],
   "source": [
    "# Alternatively, create a continuous variable rather than binary\n",
    "# Sentiment analysis ranges from -1 to +1\n",
    "def get_sentiment_cont(text):\n",
    "    scores = analyzer.polarity_scores(text)\n",
    "    sentiment = scores['pos']\n",
    "    return sentiment"
   ]
  },
  {
   "cell_type": "code",
   "execution_count": 123,
   "id": "b0c90ee7",
   "metadata": {},
   "outputs": [],
   "source": [
    "# Alternatively, create three categories for neutral, positive, and negative\n",
    "def get_sentiment_three(text):\n",
    "    scores = analyzer.polarity_scores(text)\n",
    "    if scores['pos'] >= 0.25:\n",
    "        sentiment = 1\n",
    "    elif scores['pos'] <= -0.25:\n",
    "        sentiment = -1\n",
    "    else:\n",
    "        sentiment = 0\n",
    "    return sentiment"
   ]
  },
  {
   "cell_type": "code",
   "execution_count": 42,
   "id": "c4a74fc2",
   "metadata": {
    "scrolled": true
   },
   "outputs": [
    {
     "data": {
      "text/html": [
       "<div>\n",
       "<style scoped>\n",
       "    .dataframe tbody tr th:only-of-type {\n",
       "        vertical-align: middle;\n",
       "    }\n",
       "\n",
       "    .dataframe tbody tr th {\n",
       "        vertical-align: top;\n",
       "    }\n",
       "\n",
       "    .dataframe thead th {\n",
       "        text-align: right;\n",
       "    }\n",
       "</style>\n",
       "<table border=\"1\" class=\"dataframe\">\n",
       "  <thead>\n",
       "    <tr style=\"text-align: right;\">\n",
       "      <th></th>\n",
       "      <th>description</th>\n",
       "      <th>sentiment</th>\n",
       "    </tr>\n",
       "  </thead>\n",
       "  <tbody>\n",
       "    <tr>\n",
       "      <th>VEW9E1EIQ1M</th>\n",
       "      <td>directed zong li executive producer : vince tr...</td>\n",
       "      <td>1</td>\n",
       "    </tr>\n",
       "    <tr>\n",
       "      <th>sRs2o36a1Us</th>\n",
       "      <td>music video drake performing first person shoo...</td>\n",
       "      <td>1</td>\n",
       "    </tr>\n",
       "    <tr>\n",
       "      <th>OzYxBrgtUSo</th>\n",
       "      <td>pro renovation tip : client firmly request fea...</td>\n",
       "      <td>1</td>\n",
       "    </tr>\n",
       "    <tr>\n",
       "      <th>i8r4h29tEWQ</th>\n",
       "      <td>everyone 's getting debut episode ! better wor...</td>\n",
       "      <td>1</td>\n",
       "    </tr>\n",
       "    <tr>\n",
       "      <th>BGzGPyUKS1Q</th>\n",
       "      <td>might insane collab 've ever done channel ... ...</td>\n",
       "      <td>1</td>\n",
       "    </tr>\n",
       "    <tr>\n",
       "      <th>eQNHDV7lKgE</th>\n",
       "      <td>jennie - &amp; know gotcha know got like ’ nobody ...</td>\n",
       "      <td>1</td>\n",
       "    </tr>\n",
       "    <tr>\n",
       "      <th>VOO91w2AeQE</th>\n",
       "      <td>cringeyyyyy . 🛒 🍻 shop cut game ! → http : //c...</td>\n",
       "      <td>1</td>\n",
       "    </tr>\n",
       "    <tr>\n",
       "      <th>mckg2Eo51Qo</th>\n",
       "      <td>provided youtube universal music group virgini...</td>\n",
       "      <td>1</td>\n",
       "    </tr>\n",
       "    <tr>\n",
       "      <th>3BY2iE5RIZw</th>\n",
       "      <td>provided youtube columbia wild one · jessie mu...</td>\n",
       "      <td>1</td>\n",
       "    </tr>\n",
       "    <tr>\n",
       "      <th>XoiOOiuH8iI</th>\n",
       "      <td>tyla - water ( official music video ) listen “...</td>\n",
       "      <td>1</td>\n",
       "    </tr>\n",
       "  </tbody>\n",
       "</table>\n",
       "</div>"
      ],
      "text/plain": [
       "                                                   description  sentiment\n",
       "VEW9E1EIQ1M  directed zong li executive producer : vince tr...          1\n",
       "sRs2o36a1Us  music video drake performing first person shoo...          1\n",
       "OzYxBrgtUSo  pro renovation tip : client firmly request fea...          1\n",
       "i8r4h29tEWQ  everyone 's getting debut episode ! better wor...          1\n",
       "BGzGPyUKS1Q  might insane collab 've ever done channel ... ...          1\n",
       "eQNHDV7lKgE  jennie - & know gotcha know got like ’ nobody ...          1\n",
       "VOO91w2AeQE  cringeyyyyy . 🛒 🍻 shop cut game ! → http : //c...          1\n",
       "mckg2Eo51Qo  provided youtube universal music group virgini...          1\n",
       "3BY2iE5RIZw  provided youtube columbia wild one · jessie mu...          1\n",
       "XoiOOiuH8iI  tyla - water ( official music video ) listen “...          1"
      ]
     },
     "execution_count": 42,
     "metadata": {},
     "output_type": "execute_result"
    }
   ],
   "source": [
    "# apply get_sentiment_binary function\n",
    "description['sentiment'] = description['description'].apply(get_sentiment_binary)\n",
    "description"
   ]
  },
  {
   "cell_type": "code",
   "execution_count": 43,
   "id": "205ee34d",
   "metadata": {
    "scrolled": true
   },
   "outputs": [
    {
     "data": {
      "text/html": [
       "<div>\n",
       "<style scoped>\n",
       "    .dataframe tbody tr th:only-of-type {\n",
       "        vertical-align: middle;\n",
       "    }\n",
       "\n",
       "    .dataframe tbody tr th {\n",
       "        vertical-align: top;\n",
       "    }\n",
       "\n",
       "    .dataframe thead th {\n",
       "        text-align: right;\n",
       "    }\n",
       "</style>\n",
       "<table border=\"1\" class=\"dataframe\">\n",
       "  <thead>\n",
       "    <tr style=\"text-align: right;\">\n",
       "      <th></th>\n",
       "      <th>description</th>\n",
       "      <th>sentiment</th>\n",
       "    </tr>\n",
       "  </thead>\n",
       "  <tbody>\n",
       "    <tr>\n",
       "      <th>VEW9E1EIQ1M</th>\n",
       "      <td>directed zong li executive producer : vince tr...</td>\n",
       "      <td>0.038</td>\n",
       "    </tr>\n",
       "    <tr>\n",
       "      <th>sRs2o36a1Us</th>\n",
       "      <td>music video drake performing first person shoo...</td>\n",
       "      <td>0.073</td>\n",
       "    </tr>\n",
       "    <tr>\n",
       "      <th>OzYxBrgtUSo</th>\n",
       "      <td>pro renovation tip : client firmly request fea...</td>\n",
       "      <td>0.294</td>\n",
       "    </tr>\n",
       "    <tr>\n",
       "      <th>i8r4h29tEWQ</th>\n",
       "      <td>everyone 's getting debut episode ! better wor...</td>\n",
       "      <td>0.119</td>\n",
       "    </tr>\n",
       "    <tr>\n",
       "      <th>BGzGPyUKS1Q</th>\n",
       "      <td>might insane collab 've ever done channel ... ...</td>\n",
       "      <td>0.086</td>\n",
       "    </tr>\n",
       "    <tr>\n",
       "      <th>eQNHDV7lKgE</th>\n",
       "      <td>jennie - &amp; know gotcha know got like ’ nobody ...</td>\n",
       "      <td>0.395</td>\n",
       "    </tr>\n",
       "    <tr>\n",
       "      <th>VOO91w2AeQE</th>\n",
       "      <td>cringeyyyyy . 🛒 🍻 shop cut game ! → http : //c...</td>\n",
       "      <td>0.095</td>\n",
       "    </tr>\n",
       "    <tr>\n",
       "      <th>mckg2Eo51Qo</th>\n",
       "      <td>provided youtube universal music group virgini...</td>\n",
       "      <td>0.016</td>\n",
       "    </tr>\n",
       "    <tr>\n",
       "      <th>3BY2iE5RIZw</th>\n",
       "      <td>provided youtube columbia wild one · jessie mu...</td>\n",
       "      <td>0.054</td>\n",
       "    </tr>\n",
       "    <tr>\n",
       "      <th>XoiOOiuH8iI</th>\n",
       "      <td>tyla - water ( official music video ) listen “...</td>\n",
       "      <td>0.066</td>\n",
       "    </tr>\n",
       "  </tbody>\n",
       "</table>\n",
       "</div>"
      ],
      "text/plain": [
       "                                                   description  sentiment\n",
       "VEW9E1EIQ1M  directed zong li executive producer : vince tr...      0.038\n",
       "sRs2o36a1Us  music video drake performing first person shoo...      0.073\n",
       "OzYxBrgtUSo  pro renovation tip : client firmly request fea...      0.294\n",
       "i8r4h29tEWQ  everyone 's getting debut episode ! better wor...      0.119\n",
       "BGzGPyUKS1Q  might insane collab 've ever done channel ... ...      0.086\n",
       "eQNHDV7lKgE  jennie - & know gotcha know got like ’ nobody ...      0.395\n",
       "VOO91w2AeQE  cringeyyyyy . 🛒 🍻 shop cut game ! → http : //c...      0.095\n",
       "mckg2Eo51Qo  provided youtube universal music group virgini...      0.016\n",
       "3BY2iE5RIZw  provided youtube columbia wild one · jessie mu...      0.054\n",
       "XoiOOiuH8iI  tyla - water ( official music video ) listen “...      0.066"
      ]
     },
     "execution_count": 43,
     "metadata": {},
     "output_type": "execute_result"
    }
   ],
   "source": [
    "# apply get_sentiment_cont function\n",
    "description['sentiment'] = description['description'].apply(get_sentiment_cont)\n",
    "description"
   ]
  },
  {
   "cell_type": "code",
   "execution_count": 45,
   "id": "bb226080",
   "metadata": {
    "scrolled": true
   },
   "outputs": [
    {
     "data": {
      "text/html": [
       "<div>\n",
       "<style scoped>\n",
       "    .dataframe tbody tr th:only-of-type {\n",
       "        vertical-align: middle;\n",
       "    }\n",
       "\n",
       "    .dataframe tbody tr th {\n",
       "        vertical-align: top;\n",
       "    }\n",
       "\n",
       "    .dataframe thead th {\n",
       "        text-align: right;\n",
       "    }\n",
       "</style>\n",
       "<table border=\"1\" class=\"dataframe\">\n",
       "  <thead>\n",
       "    <tr style=\"text-align: right;\">\n",
       "      <th></th>\n",
       "      <th>description</th>\n",
       "      <th>sentiment</th>\n",
       "    </tr>\n",
       "  </thead>\n",
       "  <tbody>\n",
       "    <tr>\n",
       "      <th>VEW9E1EIQ1M</th>\n",
       "      <td>directed zong li executive producer : vince tr...</td>\n",
       "      <td>0</td>\n",
       "    </tr>\n",
       "    <tr>\n",
       "      <th>sRs2o36a1Us</th>\n",
       "      <td>music video drake performing first person shoo...</td>\n",
       "      <td>0</td>\n",
       "    </tr>\n",
       "    <tr>\n",
       "      <th>OzYxBrgtUSo</th>\n",
       "      <td>pro renovation tip : client firmly request fea...</td>\n",
       "      <td>0</td>\n",
       "    </tr>\n",
       "    <tr>\n",
       "      <th>i8r4h29tEWQ</th>\n",
       "      <td>everyone 's getting debut episode ! better wor...</td>\n",
       "      <td>0</td>\n",
       "    </tr>\n",
       "    <tr>\n",
       "      <th>BGzGPyUKS1Q</th>\n",
       "      <td>might insane collab 've ever done channel ... ...</td>\n",
       "      <td>0</td>\n",
       "    </tr>\n",
       "    <tr>\n",
       "      <th>eQNHDV7lKgE</th>\n",
       "      <td>jennie - &amp; know gotcha know got like ’ nobody ...</td>\n",
       "      <td>0</td>\n",
       "    </tr>\n",
       "    <tr>\n",
       "      <th>VOO91w2AeQE</th>\n",
       "      <td>cringeyyyyy . 🛒 🍻 shop cut game ! → http : //c...</td>\n",
       "      <td>0</td>\n",
       "    </tr>\n",
       "    <tr>\n",
       "      <th>mckg2Eo51Qo</th>\n",
       "      <td>provided youtube universal music group virgini...</td>\n",
       "      <td>0</td>\n",
       "    </tr>\n",
       "    <tr>\n",
       "      <th>3BY2iE5RIZw</th>\n",
       "      <td>provided youtube columbia wild one · jessie mu...</td>\n",
       "      <td>0</td>\n",
       "    </tr>\n",
       "    <tr>\n",
       "      <th>XoiOOiuH8iI</th>\n",
       "      <td>tyla - water ( official music video ) listen “...</td>\n",
       "      <td>0</td>\n",
       "    </tr>\n",
       "  </tbody>\n",
       "</table>\n",
       "</div>"
      ],
      "text/plain": [
       "                                                   description  sentiment\n",
       "VEW9E1EIQ1M  directed zong li executive producer : vince tr...          0\n",
       "sRs2o36a1Us  music video drake performing first person shoo...          0\n",
       "OzYxBrgtUSo  pro renovation tip : client firmly request fea...          0\n",
       "i8r4h29tEWQ  everyone 's getting debut episode ! better wor...          0\n",
       "BGzGPyUKS1Q  might insane collab 've ever done channel ... ...          0\n",
       "eQNHDV7lKgE  jennie - & know gotcha know got like ’ nobody ...          0\n",
       "VOO91w2AeQE  cringeyyyyy . 🛒 🍻 shop cut game ! → http : //c...          0\n",
       "mckg2Eo51Qo  provided youtube universal music group virgini...          0\n",
       "3BY2iE5RIZw  provided youtube columbia wild one · jessie mu...          0\n",
       "XoiOOiuH8iI  tyla - water ( official music video ) listen “...          0"
      ]
     },
     "execution_count": 45,
     "metadata": {},
     "output_type": "execute_result"
    }
   ],
   "source": [
    "# apply get_sentiment_three function\n",
    "description['sentiment'] = description['description'].apply(get_sentiment_three)\n",
    "description"
   ]
  },
  {
   "cell_type": "code",
   "execution_count": 58,
   "id": "1c3a5256",
   "metadata": {},
   "outputs": [],
   "source": [
    "# Simple class for underlying/bold text in a printed statement\n",
    "class Format:\n",
    "    end = '\\033[0m'\n",
    "    underline = '\\033[4m'\n",
    "    bold = '\\033[1m'"
   ]
  },
  {
   "cell_type": "code",
   "execution_count": 61,
   "id": "7fa99b8a",
   "metadata": {
    "scrolled": true
   },
   "outputs": [
    {
     "name": "stdout",
     "output_type": "stream",
     "text": [
      "The \u001b[1maverage\u001b[0m sentiment amongst the top videos was: \u001b[4m0.1236\u001b[0m\n",
      "The most \u001b[1mpositive\u001b[0m sentiment amongst the top videos was: \u001b[4m0.395\u001b[0m from video ID: \u001b[1meQNHDV7lKgE\u001b[0m\n",
      "The most \u001b[1mnegative\u001b[0m sentiment amongst the top videos was: \u001b[4m0.016\u001b[0m from video ID: \u001b[1mmckg2Eo51Qo\u001b[0m\n"
     ]
    }
   ],
   "source": [
    "description['sentiment'] = description['description'].apply(get_sentiment_cont)\n",
    "\n",
    "print('The', Format.bold + 'average' + Format.end, 'description sentiment amongst the top videos was:', Format.underline + str(description['sentiment'].mean()) + Format.end)\n",
    "print('The most', Format.bold + 'positive' + Format.end, 'description sentiment amongst the top videos was:', Format.underline + str(description['sentiment'].max()) + Format.end, 'from video ID:', Format.bold + description['sentiment'].idxmax() + Format.end)\n",
    "print('The most', Format.bold + 'negative' + Format.end, 'description sentiment amongst the top videos was:', Format.underline + str(description['sentiment'].min()) + Format.end, 'from video ID:', Format.bold + description['sentiment'].idxmin() + Format.end)"
   ]
  },
  {
   "cell_type": "code",
   "execution_count": null,
   "id": "88909168",
   "metadata": {},
   "outputs": [],
   "source": []
  },
  {
   "cell_type": "code",
   "execution_count": 87,
   "id": "f79a3b17",
   "metadata": {},
   "outputs": [],
   "source": [
    "# Selecting the tag data from the df and transposing the columns\n",
    "tags = df.loc[['tags']].T"
   ]
  },
  {
   "cell_type": "code",
   "execution_count": 88,
   "id": "3018aab3",
   "metadata": {},
   "outputs": [],
   "source": [
    "# Converting the tag lists to strings\n",
    "def listToString(string):\n",
    "    try:\n",
    "        string = ' '.join(string)\n",
    "    except:\n",
    "        string = 'No Tags'\n",
    "    return string\n",
    "\n",
    "tags['tags'] = tags['tags'].apply(listToString)"
   ]
  },
  {
   "cell_type": "code",
   "execution_count": 90,
   "id": "283eff4d",
   "metadata": {},
   "outputs": [
    {
     "name": "stdout",
     "output_type": "stream",
     "text": [
      "The \u001b[1maverage\u001b[0m sentiment amongst the top videos was: \u001b[4m0.046900000000000004\u001b[0m\n",
      "The most \u001b[1mpositive\u001b[0m sentiment amongst the top videos was: \u001b[4m0.274\u001b[0m from video ID: \u001b[1mVOO91w2AeQE\u001b[0m\n",
      "The most \u001b[1mnegative\u001b[0m sentiment amongst the top videos was: \u001b[4m0.0\u001b[0m from video ID: \u001b[1mVEW9E1EIQ1M\u001b[0m\n"
     ]
    }
   ],
   "source": [
    "tags['tags'] = tags['tags'].apply(string_prep)\n",
    "tags['sentiment'] = tags['tags'].apply(get_sentiment_cont)\n",
    "\n",
    "print('The', Format.bold + 'average' + Format.end, 'tag sentiment amongst the top videos was:', Format.underline + str(tags['sentiment'].mean()) + Format.end)\n",
    "print('The most', Format.bold + 'positive' + Format.end, 'tag sentiment amongst the top videos was:', Format.underline + str(tags['sentiment'].max()) + Format.end, 'from video ID:', Format.bold + tags['sentiment'].idxmax() + Format.end)\n",
    "print('The most', Format.bold + 'negative' + Format.end, 'tag sentiment amongst the top videos was:', Format.underline + str(tags['sentiment'].min()) + Format.end, 'from video ID:', Format.bold + tags['sentiment'].idxmin() + Format.end)"
   ]
  },
  {
   "cell_type": "code",
   "execution_count": null,
   "id": "ab8c5208",
   "metadata": {},
   "outputs": [],
   "source": []
  },
  {
   "cell_type": "code",
   "execution_count": 92,
   "id": "489e5273",
   "metadata": {},
   "outputs": [],
   "source": [
    "# The dislike dataset from Youtube Dislike Dataset from Kaggle -- simply used to acess the video ids\n",
    "# dislike_data = pd.read_csv('youtube_dislike_dataset.csv')"
   ]
  },
  {
   "cell_type": "code",
   "execution_count": 106,
   "id": "a96dec97",
   "metadata": {},
   "outputs": [],
   "source": [
    "# This following block is copied directly from the Youtube Dislike Dataset from Kaggle, accessible here:\n",
    "# https://www.kaggle.com/datasets/dmitrynikolaev/youtube-dislikes-dataset/\n",
    "# This code retrieves data from trending YouTube videos from August 2020 to December 2021 for the USA, Canada, and Great Britain.\n",
    "# Including their dislike information... I'll use the raw data output from this code to generate a \n",
    "# supervised ML model to predict dislikes by other video attributes. After creating a decently optomised model, I'll \n",
    "# fit the model to my top N CURRENT data set to estimate the number of dislikes.\n",
    "\n",
    "# import pickle\n",
    "# import string\n",
    "\n",
    "# def save_data(data, filename):\n",
    "#     \"\"\" Save data to file using pickle \"\"\"\n",
    "\n",
    "#     pickle.dump(data, open(filename, \"wb\"))\n",
    "    \n",
    "\n",
    "# def get_video_info_by_id(video_id, youtube, return_list=False):\n",
    "#     \"\"\" \n",
    "#     Get information about a video using YouTube Data API v3. \n",
    "#     Parse the following information:\n",
    "#         video_id (str) - video id\n",
    "#         title (str) - video title\n",
    "#         description (str) - video description\n",
    "#         channelId (str) - channel id\n",
    "#         channelTitle (str) - channel title\n",
    "#         publishedAt (str) - video publication date\n",
    "#         tags (str) - tags if author specified, else \" \" or empty list\n",
    "#         viewCount (int) - number of views\n",
    "#         likeCount (int) - number of likes\n",
    "#         dislikeCount (int) - number of dislikes\n",
    "#         commentCount (int) - number of comments\n",
    "#         comments (str) - 20 video comments\n",
    "\n",
    "#     Parameters:\n",
    "#         video_id (str): YouTube video id\n",
    "#         youtube: googleapiclient.discovery.build object\n",
    "#         return_list (bool): If True, tags and comments are returned as lists of string\n",
    "#                             If False - as one concatenated string\n",
    "\n",
    "#     Returns:\n",
    "#         list, containing all items in the same order OR None in cases:\n",
    "#             if video_id is invalid or if comments are turned off\n",
    "#     \"\"\"\n",
    "\n",
    "#     # youtube request for information about video\n",
    "#     request = youtube.videos().list(\n",
    "#         part=\"snippet, statistics\",\n",
    "#         id=video_id)\n",
    "#     response = request.execute()\n",
    "\n",
    "#     if not response['items']:\n",
    "#         # empty list - video isn't available anymore\n",
    "#         return None\n",
    "\n",
    "#     # public fields that are 100% availible\n",
    "#     publishedAt = response['items'][0]['snippet']['publishedAt']\n",
    "#     channelId = response['items'][0]['snippet']['channelId']\n",
    "#     title = response['items'][0]['snippet']['title']\n",
    "#     description = response['items'][0]['snippet']['description']\n",
    "#     channelTitle = response['items'][0]['snippet']['channelTitle']\n",
    "\n",
    "#     # next fields can be hidden\n",
    "#     try:\n",
    "#         viewCount = int(response['items'][0]['statistics']['viewCount'])\n",
    "#     except KeyError:\n",
    "#         viewCount = None\n",
    "\n",
    "#     try:\n",
    "#         likeCount = int(response['items'][0]['statistics']['likeCount'])\n",
    "#     except KeyError:\n",
    "#         likeCount = None\n",
    "\n",
    "#     # is private from 13 December 2021\n",
    "#     try:\n",
    "#         dislikeCount = int(response['items'][0]['statistics']['dislikeCount'])\n",
    "#     except KeyError:\n",
    "#         dislikeCount = None\n",
    "\n",
    "#     # tags are unavailable if author didn't specify them\n",
    "#     try:\n",
    "#         tags_list = response['items'][0]['snippet']['tags']\n",
    "#         if return_list:\n",
    "#             tags = tags_list\n",
    "#         else:\n",
    "#             # list to string\n",
    "#             tags = ' '.join([tag for tag in tags_list])\n",
    "#     except KeyError:\n",
    "#         tags = None\n",
    "\n",
    "#     # if commentCount is unavailible, comments are turned off\n",
    "#     try:\n",
    "#         commentCount = int(response['items'][0]['statistics']['commentCount'])\n",
    "#     except KeyError:\n",
    "#         return None\n",
    "\n",
    "#     if commentCount == 0:\n",
    "#         comments = []\n",
    "#     else:\n",
    "#         # youtube request for comments information\n",
    "#         try:\n",
    "#             request = youtube.commentThreads().list(\n",
    "#                 part=\"snippet\",\n",
    "#                 maxResults=250,\n",
    "#                 order=\"relevance\",\n",
    "#                 textFormat=\"plainText\",\n",
    "#                 videoId=video_id)\n",
    "#             response = request.execute()\n",
    "#         except Exception:\n",
    "#             # comments are unavailable\n",
    "#             return None\n",
    "\n",
    "#         if return_list:\n",
    "#             comments = [obj['snippet']['topLevelComment']['snippet']['textDisplay']\n",
    "#                         for obj in response['items']]\n",
    "#         else:\n",
    "#             # list to string\n",
    "#             comments = ' '.join([obj['snippet']['topLevelComment']['snippet']['textDisplay']\n",
    "#                                  for obj in response['items']])\n",
    "\n",
    "#     return [video_id, title, description, channelId, channelTitle,\n",
    "#             publishedAt, tags, viewCount, likeCount, dislikeCount,\n",
    "#             commentCount, comments]\n",
    "\n",
    "# def request_loop(video_ids, filename, youtube, save_iter=False):\n",
    "#     \"\"\" \n",
    "#     Iterate over video_ids and execute `get_video_info_by_id()` function\n",
    "#     Save data to filename_{}.p file using pickle.\n",
    "\n",
    "#     Parameters:\n",
    "#         video_ids (list of strings): list of YouTube video ids\n",
    "#         filename (str): path to file to save data using pickle\n",
    "#         youtube: googleapiclient.discovery.build object \n",
    "#         save_iter (bool/int): If an integer, save data every save_iter iterations\n",
    "\n",
    "#     Returns:\n",
    "#         number of successful iterations (int)\n",
    "#     \"\"\"\n",
    "\n",
    "#     youtube_data = []\n",
    "#     total = len(video_ids)\n",
    "#     if not video_ids:\n",
    "#         # empty list\n",
    "#         return 0\n",
    "\n",
    "#     for counter, video_id in enumerate(video_ids):\n",
    "#         try:\n",
    "#             curr = get_video_info_by_id(video_id, youtube)\n",
    "#         except Exception as e:\n",
    "#             print(str(e) + '\\n')\n",
    "#             print(\"This is most likely Http Error 403 due to exceeded quota\")\n",
    "#             print(\"To know more visit:\" +\n",
    "#                   \" https://developers.google.com/youtube/v3/getting-started#quota\")\n",
    "#             break\n",
    "\n",
    "#         # append all data in the list\n",
    "#         youtube_data.append(curr)\n",
    "\n",
    "#         # save data every save_iter iterations\n",
    "#         if save_iter and counter != 0 and counter % save_iter == 0:\n",
    "#             save_data(youtube_data, f\"{filename}_{counter+1}.p\")\n",
    "#             print(f'\\tSaved in \"{filename}_{counter+1}.p\"')\n",
    "\n",
    "#         print(f\"{counter+1}/{total}: collect information about {video_id}\")\n",
    "\n",
    "#     if youtube_data:\n",
    "#         # if list is not empty\n",
    "#         # save data in the end of the loop or if exception occurs\n",
    "#         save_data(youtube_data, f\"{filename}_{counter+1}_final.p\")\n",
    "#         print(f'\\tSaved in f\"{filename}_{counter+1}_final.p\"')\n",
    "\n",
    "#     return counter\n",
    "\n",
    "# def process_one_list(filename):\n",
    "#     \"\"\" Read 'filename' using pickle and convert list of lists to a pd.Dataframe \"\"\"\n",
    "\n",
    "#     data = pickle.load(open(filename, 'rb'))\n",
    "#     data = list(filter(None, data))  # delete empty list elements\n",
    "\n",
    "#     df = pd.DataFrame(data, columns=['video_id', 'title', 'description', 'channelId', 'channelTitle',\n",
    "#                                      'publishedAt', 'tags',  'viewCount', 'likeCount', 'dislikeCount',\n",
    "#                                      'commentCount', 'comments'])\n",
    "\n",
    "#     return df"
   ]
  },
  {
   "cell_type": "code",
   "execution_count": 107,
   "id": "7bac3c3f",
   "metadata": {},
   "outputs": [],
   "source": [
    "# # API information\n",
    "# API_SERVICE_NAME = \"youtube\"\n",
    "# API_VERSION = \"v3\"\n",
    "# DEVELOPER_KEY = '' # something like ''\n",
    "    \n",
    "# # API client\n",
    "# youtube = googleapiclient.discovery.build(API_SERVICE_NAME,\n",
    "#                                           API_VERSION,\n",
    "#                                           developerKey=DEVELOPER_KEY)"
   ]
  },
  {
   "cell_type": "code",
   "execution_count": 108,
   "id": "8b9b2e99",
   "metadata": {},
   "outputs": [],
   "source": [
    "# video_ids = dislike_data['video_id'].tolist()"
   ]
  },
  {
   "cell_type": "code",
   "execution_count": 111,
   "id": "8ea27d01",
   "metadata": {
    "scrolled": true
   },
   "outputs": [],
   "source": [
    "# this will create pickle .p file containing a list of 5 elements\n",
    "# each of which contains information about one video ID\n",
    "# NOTE: THIS WILL EXCEED YOUR REQUEST IF USING 1 API\n",
    "\n",
    "#request_loop(video_ids, \n",
    "             #\"youtube_data\",\n",
    "             #youtube)\n",
    "\n",
    "#raw_data = process_one_list(\"youtube_data_5_final.p\")\n",
    "#raw_data"
   ]
  },
  {
   "cell_type": "code",
   "execution_count": null,
   "id": "60991af8",
   "metadata": {},
   "outputs": [],
   "source": []
  },
  {
   "cell_type": "markdown",
   "id": "7b3b4c11",
   "metadata": {},
   "source": [
    "# Building a ML model to predict dislikes\n",
    "\n",
    "1. Convert statistics attributes to more useful measures -- eg. comment to view ratio > total number of comments or views\n",
    "2. Convert description and tag data into meaninful information via sentiment analysis\n",
    "    - continuous sentiment\n",
    "    - ordinal categorical sentiment\n",
    "3. Drop all unnecessary columns after conversions, and clean up the DF\n",
    "5. Check for multicolinearity via a correlation matrix with the predictor attributes and take necessary action\n",
    "    - alternatively, a Pairwise Scatter plot can be used to visually examine linearity\n",
    "6. Check for correlation of each predictor variable to the outcome (dislikes)\n",
    "7. Drop attributes that have no significant correlation (p value of pearson correlation > 0.10)\n",
    "    - If no variables display significant correlation to dislikes, try new sentiment categories/statistics\n",
    "        - If this proves ineffective, try using a different sentiment analysis model, or another method to analyze strings\n",
    "7. Split Data into predictors (X) and outcome (y)\n",
    "4. Feature Scaling\n",
    "8. Split into testing and training sets\n",
    "9. Fit a linear regression model with all statistically significant predictor variables from the training dataset\n",
    "10. Fit a Ridge, Lasso, and ElasticNet Regression models\n",
    "11. Create a cross-validation grid-search to obtain the best model for each form of Regression\n",
    "    - obtain the best parameters for each model\n",
    "12. For each model, fit the testing data and calculate the error -- either the RSS, MAE, MSE, MAPE, MPE, or RMSE\n",
    "13. Compare all models by their error (probably RMSE is best) and select the best model\n",
    "14. (optional) to decrease model error, find more attributes, alter the existing attributes, or increase the data\n",
    "15. Use the optomised model to predict dislikes for all of the top N most watched videos in the last 24 hours"
   ]
  },
  {
   "cell_type": "code",
   "execution_count": 112,
   "id": "196db6b1",
   "metadata": {},
   "outputs": [],
   "source": [
    "# Reading in the data from the Youtube Dislike Dataset avalible at Kaggle, accessible here:\n",
    "# https://www.kaggle.com/datasets/dmitrynikolaev/youtube-dislikes-dataset/\n",
    "# Preferably > 20 random comments would be used as a sample, but I run out of requests when attempting to re-run their code\n",
    "# A rotating API could be constructed to execute this if necessary\n",
    "dislike_data = pd.read_csv('youtube_dislike_dataset.csv')"
   ]
  },
  {
   "cell_type": "code",
   "execution_count": 118,
   "id": "91c41b5e",
   "metadata": {},
   "outputs": [],
   "source": [
    "# Removing columns that are not useful for model construction\n",
    "df = dislike_data.drop(columns = ['published_at', 'channel_title', 'channel_id', 'title']).set_index('video_id')"
   ]
  },
  {
   "cell_type": "code",
   "execution_count": 119,
   "id": "c813d04b",
   "metadata": {},
   "outputs": [],
   "source": [
    "# Creating ratio values for likes and comments to views\n",
    "df['views_per_like'] = df['view_count']/df['likes']\n",
    "df['views_per_comment'] = df['view_count']/df['comment_count']"
   ]
  },
  {
   "cell_type": "code",
   "execution_count": 121,
   "id": "c23d850b",
   "metadata": {},
   "outputs": [],
   "source": [
    "# Dropping the three statistics measures in favor of their more informative ratio measures\n",
    "df = df.drop(columns = ['likes', 'comment_count', 'view_count'])"
   ]
  },
  {
   "cell_type": "code",
   "execution_count": 122,
   "id": "21f691e3",
   "metadata": {
    "scrolled": false
   },
   "outputs": [
    {
     "data": {
      "text/html": [
       "<div>\n",
       "<style scoped>\n",
       "    .dataframe tbody tr th:only-of-type {\n",
       "        vertical-align: middle;\n",
       "    }\n",
       "\n",
       "    .dataframe tbody tr th {\n",
       "        vertical-align: top;\n",
       "    }\n",
       "\n",
       "    .dataframe thead th {\n",
       "        text-align: right;\n",
       "    }\n",
       "</style>\n",
       "<table border=\"1\" class=\"dataframe\">\n",
       "  <thead>\n",
       "    <tr style=\"text-align: right;\">\n",
       "      <th></th>\n",
       "      <th>dislikes</th>\n",
       "      <th>tags</th>\n",
       "      <th>description</th>\n",
       "      <th>comments</th>\n",
       "      <th>views_per_like</th>\n",
       "      <th>views_per_comment</th>\n",
       "    </tr>\n",
       "    <tr>\n",
       "      <th>video_id</th>\n",
       "      <th></th>\n",
       "      <th></th>\n",
       "      <th></th>\n",
       "      <th></th>\n",
       "      <th></th>\n",
       "      <th></th>\n",
       "    </tr>\n",
       "  </thead>\n",
       "  <tbody>\n",
       "    <tr>\n",
       "      <th>--0bCF-iK2E</th>\n",
       "      <td>226</td>\n",
       "      <td>football soccer ftbol alemn Bundesliga season ...</td>\n",
       "      <td>Enjoy the best skills and goals from Jadon San...</td>\n",
       "      <td>Respect to Dortmund fans,must be sad losing hi...</td>\n",
       "      <td>53.747784</td>\n",
       "      <td>795.214556</td>\n",
       "    </tr>\n",
       "    <tr>\n",
       "      <th>--14w5SOEUs</th>\n",
       "      <td>7479</td>\n",
       "      <td>Migos Avalanche Quality Control Music/Motown R...</td>\n",
       "      <td>Watch the the official video for Migos - \"Aval...</td>\n",
       "      <td>Migos just makes me want to live my live to th...</td>\n",
       "      <td>42.732037</td>\n",
       "      <td>819.725453</td>\n",
       "    </tr>\n",
       "    <tr>\n",
       "      <th>--40TEbZ9Is</th>\n",
       "      <td>401</td>\n",
       "      <td></td>\n",
       "      <td>Hannah Waddingham wins the Emmy for Supporting...</td>\n",
       "      <td>Hannah's energy bursts through any screen. Wel...</td>\n",
       "      <td>82.525954</td>\n",
       "      <td>1113.454874</td>\n",
       "    </tr>\n",
       "    <tr>\n",
       "      <th>--4tfbSyYDE</th>\n",
       "      <td>441</td>\n",
       "      <td>PRODUCE101JAPAN              JO1   TheSTAR STA...</td>\n",
       "      <td>JO1'YOUNG (JO1 ver.)' PERFORMANCE VIDEO\\n\\n---...</td>\n",
       "      <td>youngVer&gt;&lt;  REN is really PERFECT. It's not ju...</td>\n",
       "      <td>67.506504</td>\n",
       "      <td>705.366355</td>\n",
       "    </tr>\n",
       "    <tr>\n",
       "      <th>--DKkzWVh-E</th>\n",
       "      <td>367</td>\n",
       "      <td>retaining wall New Jersey highway Direct Conne...</td>\n",
       "      <td>One of the most important (and innocuous) part...</td>\n",
       "      <td>Keep up with all my projects here: https://pr...</td>\n",
       "      <td>21.763128</td>\n",
       "      <td>670.781631</td>\n",
       "    </tr>\n",
       "  </tbody>\n",
       "</table>\n",
       "</div>"
      ],
      "text/plain": [
       "             dislikes                                               tags  \\\n",
       "video_id                                                                   \n",
       "--0bCF-iK2E       226  football soccer ftbol alemn Bundesliga season ...   \n",
       "--14w5SOEUs      7479  Migos Avalanche Quality Control Music/Motown R...   \n",
       "--40TEbZ9Is       401                                                      \n",
       "--4tfbSyYDE       441  PRODUCE101JAPAN              JO1   TheSTAR STA...   \n",
       "--DKkzWVh-E       367  retaining wall New Jersey highway Direct Conne...   \n",
       "\n",
       "                                                   description  \\\n",
       "video_id                                                         \n",
       "--0bCF-iK2E  Enjoy the best skills and goals from Jadon San...   \n",
       "--14w5SOEUs  Watch the the official video for Migos - \"Aval...   \n",
       "--40TEbZ9Is  Hannah Waddingham wins the Emmy for Supporting...   \n",
       "--4tfbSyYDE  JO1'YOUNG (JO1 ver.)' PERFORMANCE VIDEO\\n\\n---...   \n",
       "--DKkzWVh-E  One of the most important (and innocuous) part...   \n",
       "\n",
       "                                                      comments  \\\n",
       "video_id                                                         \n",
       "--0bCF-iK2E  Respect to Dortmund fans,must be sad losing hi...   \n",
       "--14w5SOEUs  Migos just makes me want to live my live to th...   \n",
       "--40TEbZ9Is  Hannah's energy bursts through any screen. Wel...   \n",
       "--4tfbSyYDE  youngVer><  REN is really PERFECT. It's not ju...   \n",
       "--DKkzWVh-E   Keep up with all my projects here: https://pr...   \n",
       "\n",
       "             views_per_like  views_per_comment  \n",
       "video_id                                        \n",
       "--0bCF-iK2E       53.747784         795.214556  \n",
       "--14w5SOEUs       42.732037         819.725453  \n",
       "--40TEbZ9Is       82.525954        1113.454874  \n",
       "--4tfbSyYDE       67.506504         705.366355  \n",
       "--DKkzWVh-E       21.763128         670.781631  "
      ]
     },
     "execution_count": 122,
     "metadata": {},
     "output_type": "execute_result"
    }
   ],
   "source": [
    "df.head()"
   ]
  },
  {
   "cell_type": "code",
   "execution_count": 129,
   "id": "f92725b3",
   "metadata": {},
   "outputs": [
    {
     "data": {
      "text/plain": [
       "'video_id\\n--0bCF-iK2E    football soccer ftbol alemn bundesliga season ...\\n--14w5SOEUs    migos avalanche quality control music/motown r...\\n--40TEbZ9Is                                                     \\n--4tfbSyYDE    produce101japan jo1 thestar stargazer protosta...\\n--DKkzWVh-E    retaining wall new jersey highway direct conne...\\n                                     ...                        \\nzzd4ydafGR0    lil tjay steady calling phone calling phone ti...\\nzziBybeSAtw    nba g league basketball game-0022000187 lakers...\\nzzk09ESX7e0                mamamoo waw waw mamamoo waw wawn wawn\\nzzmQEb0Em5I    master masterpodcast lord lord vinheteiro z z ...\\nzzxPZwaA-8w    spur tottenham hotspur tottenham leicester spu...\\nName: tags, Length: 37422, dtype: object'"
      ]
     },
     "execution_count": 129,
     "metadata": {},
     "output_type": "execute_result"
    }
   ],
   "source": []
  },
  {
   "cell_type": "code",
   "execution_count": 131,
   "id": "481b5f1a",
   "metadata": {
    "scrolled": true
   },
   "outputs": [
    {
     "data": {
      "text/plain": [
       "dislikes                         int64\n",
       "tags                            object\n",
       "description                     object\n",
       "comments                        object\n",
       "views_per_like                 float64\n",
       "views_per_comment              float64\n",
       "tags_sentiment_cont            float64\n",
       "tags_sentiment_three             int64\n",
       "description_sentiment_cont     float64\n",
       "description_sentiment_three      int64\n",
       "dtype: object"
      ]
     },
     "execution_count": 131,
     "metadata": {},
     "output_type": "execute_result"
    }
   ],
   "source": [
    "df.dtypes"
   ]
  },
  {
   "cell_type": "code",
   "execution_count": null,
   "id": "614eef52",
   "metadata": {},
   "outputs": [],
   "source": []
  },
  {
   "cell_type": "code",
   "execution_count": 136,
   "id": "37d5d1ce",
   "metadata": {},
   "outputs": [],
   "source": [
    "# THIS IS THE BLOCK THAT NEEDS OPTOMISING -- takes many many hours to run\n",
    "\n",
    "columns = ['tags', 'description', 'comments']\n",
    "\n",
    "for column in columns:\n",
    "    df[column] = df[column].astype('str')\n",
    "    df[column] = df[column].apply(string_prep)\n",
    "    df[f'{column}_sentiment_cont'] = df[column].apply(get_sentiment_cont)\n",
    "    df[f'{column}_sentiment_three'] = df[column].apply(get_sentiment_three)"
   ]
  },
  {
   "cell_type": "code",
   "execution_count": 137,
   "id": "f08616e8",
   "metadata": {
    "scrolled": true
   },
   "outputs": [
    {
     "data": {
      "text/html": [
       "<div>\n",
       "<style scoped>\n",
       "    .dataframe tbody tr th:only-of-type {\n",
       "        vertical-align: middle;\n",
       "    }\n",
       "\n",
       "    .dataframe tbody tr th {\n",
       "        vertical-align: top;\n",
       "    }\n",
       "\n",
       "    .dataframe thead th {\n",
       "        text-align: right;\n",
       "    }\n",
       "</style>\n",
       "<table border=\"1\" class=\"dataframe\">\n",
       "  <thead>\n",
       "    <tr style=\"text-align: right;\">\n",
       "      <th></th>\n",
       "      <th>dislikes</th>\n",
       "      <th>tags</th>\n",
       "      <th>description</th>\n",
       "      <th>comments</th>\n",
       "      <th>views_per_like</th>\n",
       "      <th>views_per_comment</th>\n",
       "      <th>tags_sentiment_cont</th>\n",
       "      <th>tags_sentiment_three</th>\n",
       "      <th>description_sentiment_cont</th>\n",
       "      <th>description_sentiment_three</th>\n",
       "      <th>comments_sentiment_cont</th>\n",
       "      <th>comments_sentiment_three</th>\n",
       "    </tr>\n",
       "    <tr>\n",
       "      <th>video_id</th>\n",
       "      <th></th>\n",
       "      <th></th>\n",
       "      <th></th>\n",
       "      <th></th>\n",
       "      <th></th>\n",
       "      <th></th>\n",
       "      <th></th>\n",
       "      <th></th>\n",
       "      <th></th>\n",
       "      <th></th>\n",
       "      <th></th>\n",
       "      <th></th>\n",
       "    </tr>\n",
       "  </thead>\n",
       "  <tbody>\n",
       "    <tr>\n",
       "      <th>--0bCF-iK2E</th>\n",
       "      <td>226</td>\n",
       "      <td>football soccer ftbol alemn bundesliga season ...</td>\n",
       "      <td>enjoy best skill goal jadon sancho ! sub : htt...</td>\n",
       "      <td>respect dortmund fan , must sad losing . wish ...</td>\n",
       "      <td>53.747784</td>\n",
       "      <td>795.214556</td>\n",
       "      <td>0.399</td>\n",
       "      <td>1</td>\n",
       "      <td>0.374</td>\n",
       "      <td>1</td>\n",
       "      <td>0.453</td>\n",
       "      <td>1</td>\n",
       "    </tr>\n",
       "    <tr>\n",
       "      <th>--14w5SOEUs</th>\n",
       "      <td>7479</td>\n",
       "      <td>migos avalanche quality control music/motown r...</td>\n",
       "      <td>watch official video migos - `` avalanche `` s...</td>\n",
       "      <td>migos make want live live fullest amount swag ...</td>\n",
       "      <td>42.732037</td>\n",
       "      <td>819.725453</td>\n",
       "      <td>0.000</td>\n",
       "      <td>0</td>\n",
       "      <td>0.134</td>\n",
       "      <td>0</td>\n",
       "      <td>0.302</td>\n",
       "      <td>1</td>\n",
       "    </tr>\n",
       "    <tr>\n",
       "      <th>--40TEbZ9Is</th>\n",
       "      <td>401</td>\n",
       "      <td></td>\n",
       "      <td>hannah waddingham win emmy supporting actress ...</td>\n",
       "      <td>hannah 's energy burst screen . well deserved ...</td>\n",
       "      <td>82.525954</td>\n",
       "      <td>1113.454874</td>\n",
       "      <td>0.000</td>\n",
       "      <td>0</td>\n",
       "      <td>0.568</td>\n",
       "      <td>1</td>\n",
       "      <td>0.433</td>\n",
       "      <td>1</td>\n",
       "    </tr>\n",
       "    <tr>\n",
       "      <th>--4tfbSyYDE</th>\n",
       "      <td>441</td>\n",
       "      <td>produce101japan jo1 thestar stargazer protosta...</td>\n",
       "      <td>jo1'young ( jo1 ver . ) ' performance video --...</td>\n",
       "      <td>youngver &gt; &lt; ren really perfect . 's skillful ...</td>\n",
       "      <td>67.506504</td>\n",
       "      <td>705.366355</td>\n",
       "      <td>0.000</td>\n",
       "      <td>0</td>\n",
       "      <td>0.016</td>\n",
       "      <td>0</td>\n",
       "      <td>0.378</td>\n",
       "      <td>1</td>\n",
       "    </tr>\n",
       "    <tr>\n",
       "      <th>--DKkzWVh-E</th>\n",
       "      <td>367</td>\n",
       "      <td>retaining wall new jersey highway direct conne...</td>\n",
       "      <td>one important ( innocuous ) part constructed e...</td>\n",
       "      <td>keep project : http : //practical.engineering/...</td>\n",
       "      <td>21.763128</td>\n",
       "      <td>670.781631</td>\n",
       "      <td>0.000</td>\n",
       "      <td>0</td>\n",
       "      <td>0.230</td>\n",
       "      <td>0</td>\n",
       "      <td>0.159</td>\n",
       "      <td>0</td>\n",
       "    </tr>\n",
       "  </tbody>\n",
       "</table>\n",
       "</div>"
      ],
      "text/plain": [
       "             dislikes                                               tags  \\\n",
       "video_id                                                                   \n",
       "--0bCF-iK2E       226  football soccer ftbol alemn bundesliga season ...   \n",
       "--14w5SOEUs      7479  migos avalanche quality control music/motown r...   \n",
       "--40TEbZ9Is       401                                                      \n",
       "--4tfbSyYDE       441  produce101japan jo1 thestar stargazer protosta...   \n",
       "--DKkzWVh-E       367  retaining wall new jersey highway direct conne...   \n",
       "\n",
       "                                                   description  \\\n",
       "video_id                                                         \n",
       "--0bCF-iK2E  enjoy best skill goal jadon sancho ! sub : htt...   \n",
       "--14w5SOEUs  watch official video migos - `` avalanche `` s...   \n",
       "--40TEbZ9Is  hannah waddingham win emmy supporting actress ...   \n",
       "--4tfbSyYDE  jo1'young ( jo1 ver . ) ' performance video --...   \n",
       "--DKkzWVh-E  one important ( innocuous ) part constructed e...   \n",
       "\n",
       "                                                      comments  \\\n",
       "video_id                                                         \n",
       "--0bCF-iK2E  respect dortmund fan , must sad losing . wish ...   \n",
       "--14w5SOEUs  migos make want live live fullest amount swag ...   \n",
       "--40TEbZ9Is  hannah 's energy burst screen . well deserved ...   \n",
       "--4tfbSyYDE  youngver > < ren really perfect . 's skillful ...   \n",
       "--DKkzWVh-E  keep project : http : //practical.engineering/...   \n",
       "\n",
       "             views_per_like  views_per_comment  tags_sentiment_cont  \\\n",
       "video_id                                                              \n",
       "--0bCF-iK2E       53.747784         795.214556                0.399   \n",
       "--14w5SOEUs       42.732037         819.725453                0.000   \n",
       "--40TEbZ9Is       82.525954        1113.454874                0.000   \n",
       "--4tfbSyYDE       67.506504         705.366355                0.000   \n",
       "--DKkzWVh-E       21.763128         670.781631                0.000   \n",
       "\n",
       "             tags_sentiment_three  description_sentiment_cont  \\\n",
       "video_id                                                        \n",
       "--0bCF-iK2E                     1                       0.374   \n",
       "--14w5SOEUs                     0                       0.134   \n",
       "--40TEbZ9Is                     0                       0.568   \n",
       "--4tfbSyYDE                     0                       0.016   \n",
       "--DKkzWVh-E                     0                       0.230   \n",
       "\n",
       "             description_sentiment_three  comments_sentiment_cont  \\\n",
       "video_id                                                            \n",
       "--0bCF-iK2E                            1                    0.453   \n",
       "--14w5SOEUs                            0                    0.302   \n",
       "--40TEbZ9Is                            1                    0.433   \n",
       "--4tfbSyYDE                            0                    0.378   \n",
       "--DKkzWVh-E                            0                    0.159   \n",
       "\n",
       "             comments_sentiment_three  \n",
       "video_id                               \n",
       "--0bCF-iK2E                         1  \n",
       "--14w5SOEUs                         1  \n",
       "--40TEbZ9Is                         1  \n",
       "--4tfbSyYDE                         1  \n",
       "--DKkzWVh-E                         0  "
      ]
     },
     "execution_count": 137,
     "metadata": {},
     "output_type": "execute_result"
    }
   ],
   "source": [
    "df.head()"
   ]
  },
  {
   "cell_type": "code",
   "execution_count": 138,
   "id": "0d38895b",
   "metadata": {},
   "outputs": [],
   "source": [
    "# Dropping the string columns now that we have the sentiment\n",
    "df = df.drop(columns = columns)"
   ]
  },
  {
   "cell_type": "code",
   "execution_count": 139,
   "id": "928f3f2a",
   "metadata": {},
   "outputs": [
    {
     "data": {
      "text/html": [
       "<div>\n",
       "<style scoped>\n",
       "    .dataframe tbody tr th:only-of-type {\n",
       "        vertical-align: middle;\n",
       "    }\n",
       "\n",
       "    .dataframe tbody tr th {\n",
       "        vertical-align: top;\n",
       "    }\n",
       "\n",
       "    .dataframe thead th {\n",
       "        text-align: right;\n",
       "    }\n",
       "</style>\n",
       "<table border=\"1\" class=\"dataframe\">\n",
       "  <thead>\n",
       "    <tr style=\"text-align: right;\">\n",
       "      <th></th>\n",
       "      <th>dislikes</th>\n",
       "      <th>views_per_like</th>\n",
       "      <th>views_per_comment</th>\n",
       "      <th>tags_sentiment_cont</th>\n",
       "      <th>tags_sentiment_three</th>\n",
       "      <th>description_sentiment_cont</th>\n",
       "      <th>description_sentiment_three</th>\n",
       "      <th>comments_sentiment_cont</th>\n",
       "      <th>comments_sentiment_three</th>\n",
       "    </tr>\n",
       "    <tr>\n",
       "      <th>video_id</th>\n",
       "      <th></th>\n",
       "      <th></th>\n",
       "      <th></th>\n",
       "      <th></th>\n",
       "      <th></th>\n",
       "      <th></th>\n",
       "      <th></th>\n",
       "      <th></th>\n",
       "      <th></th>\n",
       "    </tr>\n",
       "  </thead>\n",
       "  <tbody>\n",
       "    <tr>\n",
       "      <th>--0bCF-iK2E</th>\n",
       "      <td>226</td>\n",
       "      <td>53.747784</td>\n",
       "      <td>795.214556</td>\n",
       "      <td>0.399</td>\n",
       "      <td>1</td>\n",
       "      <td>0.374</td>\n",
       "      <td>1</td>\n",
       "      <td>0.453</td>\n",
       "      <td>1</td>\n",
       "    </tr>\n",
       "    <tr>\n",
       "      <th>--14w5SOEUs</th>\n",
       "      <td>7479</td>\n",
       "      <td>42.732037</td>\n",
       "      <td>819.725453</td>\n",
       "      <td>0.000</td>\n",
       "      <td>0</td>\n",
       "      <td>0.134</td>\n",
       "      <td>0</td>\n",
       "      <td>0.302</td>\n",
       "      <td>1</td>\n",
       "    </tr>\n",
       "    <tr>\n",
       "      <th>--40TEbZ9Is</th>\n",
       "      <td>401</td>\n",
       "      <td>82.525954</td>\n",
       "      <td>1113.454874</td>\n",
       "      <td>0.000</td>\n",
       "      <td>0</td>\n",
       "      <td>0.568</td>\n",
       "      <td>1</td>\n",
       "      <td>0.433</td>\n",
       "      <td>1</td>\n",
       "    </tr>\n",
       "    <tr>\n",
       "      <th>--4tfbSyYDE</th>\n",
       "      <td>441</td>\n",
       "      <td>67.506504</td>\n",
       "      <td>705.366355</td>\n",
       "      <td>0.000</td>\n",
       "      <td>0</td>\n",
       "      <td>0.016</td>\n",
       "      <td>0</td>\n",
       "      <td>0.378</td>\n",
       "      <td>1</td>\n",
       "    </tr>\n",
       "    <tr>\n",
       "      <th>--DKkzWVh-E</th>\n",
       "      <td>367</td>\n",
       "      <td>21.763128</td>\n",
       "      <td>670.781631</td>\n",
       "      <td>0.000</td>\n",
       "      <td>0</td>\n",
       "      <td>0.230</td>\n",
       "      <td>0</td>\n",
       "      <td>0.159</td>\n",
       "      <td>0</td>\n",
       "    </tr>\n",
       "  </tbody>\n",
       "</table>\n",
       "</div>"
      ],
      "text/plain": [
       "             dislikes  views_per_like  views_per_comment  tags_sentiment_cont  \\\n",
       "video_id                                                                        \n",
       "--0bCF-iK2E       226       53.747784         795.214556                0.399   \n",
       "--14w5SOEUs      7479       42.732037         819.725453                0.000   \n",
       "--40TEbZ9Is       401       82.525954        1113.454874                0.000   \n",
       "--4tfbSyYDE       441       67.506504         705.366355                0.000   \n",
       "--DKkzWVh-E       367       21.763128         670.781631                0.000   \n",
       "\n",
       "             tags_sentiment_three  description_sentiment_cont  \\\n",
       "video_id                                                        \n",
       "--0bCF-iK2E                     1                       0.374   \n",
       "--14w5SOEUs                     0                       0.134   \n",
       "--40TEbZ9Is                     0                       0.568   \n",
       "--4tfbSyYDE                     0                       0.016   \n",
       "--DKkzWVh-E                     0                       0.230   \n",
       "\n",
       "             description_sentiment_three  comments_sentiment_cont  \\\n",
       "video_id                                                            \n",
       "--0bCF-iK2E                            1                    0.453   \n",
       "--14w5SOEUs                            0                    0.302   \n",
       "--40TEbZ9Is                            1                    0.433   \n",
       "--4tfbSyYDE                            0                    0.378   \n",
       "--DKkzWVh-E                            0                    0.159   \n",
       "\n",
       "             comments_sentiment_three  \n",
       "video_id                               \n",
       "--0bCF-iK2E                         1  \n",
       "--14w5SOEUs                         1  \n",
       "--40TEbZ9Is                         1  \n",
       "--4tfbSyYDE                         1  \n",
       "--DKkzWVh-E                         0  "
      ]
     },
     "execution_count": 139,
     "metadata": {},
     "output_type": "execute_result"
    }
   ],
   "source": [
    "df.head()"
   ]
  },
  {
   "cell_type": "code",
   "execution_count": 141,
   "id": "92807a0c",
   "metadata": {},
   "outputs": [],
   "source": [
    "# Saving these model attribute data as a CSV backup\n",
    "df.to_csv('YT_dislike_model_attribs.csv')"
   ]
  },
  {
   "cell_type": "code",
   "execution_count": 187,
   "id": "a4c657d2",
   "metadata": {},
   "outputs": [],
   "source": [
    "cols_to_drop = df.columns[df.columns.str.contains('_three')]\n",
    "df_cont = df.drop(cols_to_drop, axis=1, inplace = False)"
   ]
  },
  {
   "cell_type": "code",
   "execution_count": 146,
   "id": "b8ba4593",
   "metadata": {},
   "outputs": [
    {
     "data": {
      "text/plain": [
       "<seaborn.axisgrid.PairGrid at 0x2981af78e80>"
      ]
     },
     "execution_count": 146,
     "metadata": {},
     "output_type": "execute_result"
    },
    {
     "data": {
      "image/png": "[encoded data removed]",
      "text/plain": [
       "<Figure size 1080x1080 with 42 Axes>"
      ]
     },
     "metadata": {
      "needs_background": "light"
     },
     "output_type": "display_data"
    }
   ],
   "source": [
    "# Visual inspection of the Pairwise Scatter plot looking for linear relationships\n",
    "# Sampling 1,000 rows as this should be more than enough to visualize linearity\n",
    "sns.pairplot(df_cont.sample(1000))"
   ]
  },
  {
   "cell_type": "code",
   "execution_count": 150,
   "id": "95f79aee",
   "metadata": {
    "scrolled": true
   },
   "outputs": [
    {
     "data": {
      "image/png": "[encoded data removed]",
      "text/plain": [
       "<Figure size 1152x576 with 2 Axes>"
      ]
     },
     "metadata": {
      "needs_background": "light"
     },
     "output_type": "display_data"
    }
   ],
   "source": [
    "# correlation matrix heatmap\n",
    "\n",
    "corr = df.corr()\n",
    "plt.figure(figsize=(16,8))\n",
    "sns.heatmap(corr, cmap='cividis', annot=True)\n",
    "\n",
    "plt.show()"
   ]
  },
  {
   "cell_type": "markdown",
   "id": "0f6e87f8",
   "metadata": {},
   "source": [
    "It seems nothing is highly correlated to dislikes... I'll continue with this analysis regardless "
   ]
  },
  {
   "cell_type": "code",
   "execution_count": 152,
   "id": "1e0a523f",
   "metadata": {},
   "outputs": [],
   "source": [
    "df_na_dropped = df.dropna(axis = 0)"
   ]
  },
  {
   "cell_type": "code",
   "execution_count": 157,
   "id": "1b8770b2",
   "metadata": {
    "scrolled": false
   },
   "outputs": [
    {
     "data": {
      "text/html": [
       "<div>\n",
       "<style scoped>\n",
       "    .dataframe tbody tr th:only-of-type {\n",
       "        vertical-align: middle;\n",
       "    }\n",
       "\n",
       "    .dataframe tbody tr th {\n",
       "        vertical-align: top;\n",
       "    }\n",
       "\n",
       "    .dataframe thead th {\n",
       "        text-align: right;\n",
       "    }\n",
       "</style>\n",
       "<table border=\"1\" class=\"dataframe\">\n",
       "  <thead>\n",
       "    <tr style=\"text-align: right;\">\n",
       "      <th></th>\n",
       "      <th>dislikes</th>\n",
       "      <th>views_per_like</th>\n",
       "      <th>views_per_comment</th>\n",
       "      <th>tags_sentiment_cont</th>\n",
       "      <th>tags_sentiment_three</th>\n",
       "      <th>description_sentiment_cont</th>\n",
       "      <th>description_sentiment_three</th>\n",
       "      <th>comments_sentiment_cont</th>\n",
       "      <th>comments_sentiment_three</th>\n",
       "    </tr>\n",
       "    <tr>\n",
       "      <th>dislikes</th>\n",
       "      <th></th>\n",
       "      <th></th>\n",
       "      <th></th>\n",
       "      <th></th>\n",
       "      <th></th>\n",
       "      <th></th>\n",
       "      <th></th>\n",
       "      <th></th>\n",
       "      <th></th>\n",
       "    </tr>\n",
       "  </thead>\n",
       "  <tbody>\n",
       "    <tr>\n",
       "      <th>False</th>\n",
       "      <td>37422</td>\n",
       "      <td>37422</td>\n",
       "      <td>37422</td>\n",
       "      <td>37422</td>\n",
       "      <td>37422</td>\n",
       "      <td>37422</td>\n",
       "      <td>37422</td>\n",
       "      <td>37422</td>\n",
       "      <td>37422</td>\n",
       "    </tr>\n",
       "  </tbody>\n",
       "</table>\n",
       "</div>"
      ],
      "text/plain": [
       "          dislikes  views_per_like  views_per_comment  tags_sentiment_cont  \\\n",
       "dislikes                                                                     \n",
       "False        37422           37422              37422                37422   \n",
       "\n",
       "          tags_sentiment_three  description_sentiment_cont  \\\n",
       "dislikes                                                     \n",
       "False                    37422                       37422   \n",
       "\n",
       "          description_sentiment_three  comments_sentiment_cont  \\\n",
       "dislikes                                                         \n",
       "False                           37422                    37422   \n",
       "\n",
       "          comments_sentiment_three  \n",
       "dislikes                            \n",
       "False                        37422  "
      ]
     },
     "execution_count": 157,
     "metadata": {},
     "output_type": "execute_result"
    }
   ],
   "source": [
    "df_na_dropped.groupby(np.isinf(df_na_dropped['dislikes'])).count()"
   ]
  },
  {
   "cell_type": "code",
   "execution_count": 172,
   "id": "b416c41c",
   "metadata": {},
   "outputs": [],
   "source": [
    "df_na_dropped = df_na_dropped.astype(np.float64)"
   ]
  },
  {
   "cell_type": "code",
   "execution_count": 188,
   "id": "2cd3addf",
   "metadata": {
    "scrolled": false
   },
   "outputs": [],
   "source": [
    "df_cont = df_cont[np.isfinite(df_cont).all(1)]\n",
    "df_cont = df_cont.astype(np.float64)"
   ]
  },
  {
   "cell_type": "code",
   "execution_count": 192,
   "id": "47b5ee99",
   "metadata": {
    "scrolled": true
   },
   "outputs": [],
   "source": [
    "# Pearson r p-value calculations between each predictor and the outcome\n",
    "def get_p_values(df):\n",
    "    p_values = {}\n",
    "    for column in df.columns:\n",
    "        correlate, p_value = pearsonr(df['dislikes'], df[column])\n",
    "        p_values[column] = [correlate, p_value]\n",
    "    del p_values['dislikes']\n",
    "    return p_values\n",
    "        \n",
    "\n",
    "p_values = get_p_values(df_cont)"
   ]
  },
  {
   "cell_type": "code",
   "execution_count": 203,
   "id": "37653c71",
   "metadata": {
    "scrolled": true
   },
   "outputs": [],
   "source": [
    "p_values = pd.DataFrame.from_dict(p_values).T.rename(columns = {0:'Correlate', 1:'p_value'}).round({'Correlate': 3, 'p_value':4})"
   ]
  },
  {
   "cell_type": "code",
   "execution_count": 204,
   "id": "781274e7",
   "metadata": {
    "scrolled": true
   },
   "outputs": [
    {
     "data": {
      "text/html": [
       "<div>\n",
       "<style scoped>\n",
       "    .dataframe tbody tr th:only-of-type {\n",
       "        vertical-align: middle;\n",
       "    }\n",
       "\n",
       "    .dataframe tbody tr th {\n",
       "        vertical-align: top;\n",
       "    }\n",
       "\n",
       "    .dataframe thead th {\n",
       "        text-align: right;\n",
       "    }\n",
       "</style>\n",
       "<table border=\"1\" class=\"dataframe\">\n",
       "  <thead>\n",
       "    <tr style=\"text-align: right;\">\n",
       "      <th></th>\n",
       "      <th>Correlate</th>\n",
       "      <th>p_value</th>\n",
       "    </tr>\n",
       "  </thead>\n",
       "  <tbody>\n",
       "    <tr>\n",
       "      <th>views_per_like</th>\n",
       "      <td>-0.002</td>\n",
       "      <td>0.6526</td>\n",
       "    </tr>\n",
       "    <tr>\n",
       "      <th>views_per_comment</th>\n",
       "      <td>0.065</td>\n",
       "      <td>0.0000</td>\n",
       "    </tr>\n",
       "    <tr>\n",
       "      <th>tags_sentiment_cont</th>\n",
       "      <td>0.005</td>\n",
       "      <td>0.3005</td>\n",
       "    </tr>\n",
       "    <tr>\n",
       "      <th>description_sentiment_cont</th>\n",
       "      <td>0.023</td>\n",
       "      <td>0.0000</td>\n",
       "    </tr>\n",
       "    <tr>\n",
       "      <th>comments_sentiment_cont</th>\n",
       "      <td>0.002</td>\n",
       "      <td>0.6648</td>\n",
       "    </tr>\n",
       "  </tbody>\n",
       "</table>\n",
       "</div>"
      ],
      "text/plain": [
       "                            Correlate  p_value\n",
       "views_per_like                 -0.002   0.6526\n",
       "views_per_comment               0.065   0.0000\n",
       "tags_sentiment_cont             0.005   0.3005\n",
       "description_sentiment_cont      0.023   0.0000\n",
       "comments_sentiment_cont         0.002   0.6648"
      ]
     },
     "execution_count": 204,
     "metadata": {},
     "output_type": "execute_result"
    }
   ],
   "source": [
    "p_values"
   ]
  },
  {
   "cell_type": "markdown",
   "id": "ce575c88",
   "metadata": {},
   "source": [
    "Though all of the predictors have weak correlation to dislikes, views_per_comment and description_sentiment_cont have statistically significant associations.\n",
    "\n",
    "And so, they will be the only two predictors retained."
   ]
  },
  {
   "cell_type": "code",
   "execution_count": 206,
   "id": "1e2eaff0",
   "metadata": {},
   "outputs": [],
   "source": [
    "model_data = df_cont[['dislikes', 'views_per_comment', 'description_sentiment_cont']]"
   ]
  },
  {
   "cell_type": "code",
   "execution_count": 207,
   "id": "b3de2ec7",
   "metadata": {},
   "outputs": [],
   "source": [
    "# Splitting the data into predictors (X) and outcome (y)\n",
    "# Dropping the three category sentiment analysis because of the correlation to the cont. variable\n",
    "X = df_cont[['views_per_comment', 'description_sentiment_cont']]\n",
    "y = df_cont['dislikes']"
   ]
  },
  {
   "cell_type": "code",
   "execution_count": null,
   "id": "b0978797",
   "metadata": {},
   "outputs": [],
   "source": [
    "# Since there are no categorical values, no dummy variables are necessary"
   ]
  },
  {
   "cell_type": "code",
   "execution_count": 208,
   "id": "403019e3",
   "metadata": {},
   "outputs": [],
   "source": [
    "# Feature Scaling/Normalization\n",
    "X = pd.DataFrame(scale(X), columns = X.columns)"
   ]
  },
  {
   "cell_type": "code",
   "execution_count": 209,
   "id": "31573cf4",
   "metadata": {},
   "outputs": [
    {
     "data": {
      "text/plain": [
       "((29814, 2), (7454, 2), (29814,), (7454,))"
      ]
     },
     "execution_count": 209,
     "metadata": {},
     "output_type": "execute_result"
    }
   ],
   "source": [
    "# Splitting into training/testing sets\n",
    "from sklearn.model_selection import train_test_split\n",
    "X_train, X_test, y_train, y_test = train_test_split(X, y, test_size=0.2, random_state=33) # 20% of data reserved for testing\n",
    "\n",
    "# Double checking appropriate splitting by assessing sizes of test/training sets\n",
    "X_train.shape, X_test.shape, y_train.shape, y_test.shape"
   ]
  },
  {
   "cell_type": "code",
   "execution_count": null,
   "id": "73321bc2",
   "metadata": {},
   "outputs": [],
   "source": []
  },
  {
   "cell_type": "markdown",
   "id": "3edefacf",
   "metadata": {},
   "source": [
    "## Linear Regression\n",
    "### Basic Linear Regression with no CV/hyperparameter tuning"
   ]
  },
  {
   "cell_type": "code",
   "execution_count": 210,
   "id": "d4ff1884",
   "metadata": {},
   "outputs": [],
   "source": [
    "lm = LinearRegression()\n",
    "model = lm.fit(X,y)"
   ]
  },
  {
   "cell_type": "code",
   "execution_count": null,
   "id": "9108bdc8",
   "metadata": {},
   "outputs": [],
   "source": []
  },
  {
   "cell_type": "markdown",
   "id": "872127cd",
   "metadata": {},
   "source": [
    "## Ridge Regression (L2 Regularization)\n",
    "### Cross Validation and Hyperparameter Tuning"
   ]
  },
  {
   "cell_type": "code",
   "execution_count": 245,
   "id": "c8596775",
   "metadata": {},
   "outputs": [
    {
     "name": "stdout",
     "output_type": "stream",
     "text": [
      "Fitting 5 folds for each of 17 candidates, totalling 85 fits\n"
     ]
    },
    {
     "data": {
      "text/html": [
       "<div>\n",
       "<style scoped>\n",
       "    .dataframe tbody tr th:only-of-type {\n",
       "        vertical-align: middle;\n",
       "    }\n",
       "\n",
       "    .dataframe tbody tr th {\n",
       "        vertical-align: top;\n",
       "    }\n",
       "\n",
       "    .dataframe thead th {\n",
       "        text-align: right;\n",
       "    }\n",
       "</style>\n",
       "<table border=\"1\" class=\"dataframe\">\n",
       "  <thead>\n",
       "    <tr style=\"text-align: right;\">\n",
       "      <th></th>\n",
       "      <th>mean_fit_time</th>\n",
       "      <th>std_fit_time</th>\n",
       "      <th>mean_score_time</th>\n",
       "      <th>std_score_time</th>\n",
       "      <th>param_alpha</th>\n",
       "      <th>params</th>\n",
       "      <th>split0_test_score</th>\n",
       "      <th>split1_test_score</th>\n",
       "      <th>split2_test_score</th>\n",
       "      <th>split3_test_score</th>\n",
       "      <th>...</th>\n",
       "      <th>mean_test_score</th>\n",
       "      <th>std_test_score</th>\n",
       "      <th>rank_test_score</th>\n",
       "      <th>split0_train_score</th>\n",
       "      <th>split1_train_score</th>\n",
       "      <th>split2_train_score</th>\n",
       "      <th>split3_train_score</th>\n",
       "      <th>split4_train_score</th>\n",
       "      <th>mean_train_score</th>\n",
       "      <th>std_train_score</th>\n",
       "    </tr>\n",
       "  </thead>\n",
       "  <tbody>\n",
       "    <tr>\n",
       "      <th>0</th>\n",
       "      <td>0.007279</td>\n",
       "      <td>0.001946</td>\n",
       "      <td>0.004017</td>\n",
       "      <td>0.000713</td>\n",
       "      <td>0</td>\n",
       "      <td>{'alpha': 0}</td>\n",
       "      <td>-6258.836206</td>\n",
       "      <td>-6670.842017</td>\n",
       "      <td>-6478.170924</td>\n",
       "      <td>-6741.473686</td>\n",
       "      <td>...</td>\n",
       "      <td>-6683.093987</td>\n",
       "      <td>336.30265</td>\n",
       "      <td>1</td>\n",
       "      <td>-6895.443565</td>\n",
       "      <td>-6703.246976</td>\n",
       "      <td>-6783.662544</td>\n",
       "      <td>-6643.452136</td>\n",
       "      <td>-6362.237206</td>\n",
       "      <td>-6677.608485</td>\n",
       "      <td>178.875721</td>\n",
       "    </tr>\n",
       "    <tr>\n",
       "      <th>1</th>\n",
       "      <td>0.008129</td>\n",
       "      <td>0.005349</td>\n",
       "      <td>0.004323</td>\n",
       "      <td>0.005840</td>\n",
       "      <td>0.0</td>\n",
       "      <td>{'alpha': 1e-08}</td>\n",
       "      <td>-6258.836206</td>\n",
       "      <td>-6670.842017</td>\n",
       "      <td>-6478.170924</td>\n",
       "      <td>-6741.473686</td>\n",
       "      <td>...</td>\n",
       "      <td>-6683.093987</td>\n",
       "      <td>336.30265</td>\n",
       "      <td>2</td>\n",
       "      <td>-6895.443565</td>\n",
       "      <td>-6703.246976</td>\n",
       "      <td>-6783.662544</td>\n",
       "      <td>-6643.452136</td>\n",
       "      <td>-6362.237206</td>\n",
       "      <td>-6677.608485</td>\n",
       "      <td>178.875721</td>\n",
       "    </tr>\n",
       "    <tr>\n",
       "      <th>2</th>\n",
       "      <td>0.009696</td>\n",
       "      <td>0.004100</td>\n",
       "      <td>0.002656</td>\n",
       "      <td>0.001515</td>\n",
       "      <td>0.0</td>\n",
       "      <td>{'alpha': 1e-07}</td>\n",
       "      <td>-6258.836206</td>\n",
       "      <td>-6670.842017</td>\n",
       "      <td>-6478.170924</td>\n",
       "      <td>-6741.473686</td>\n",
       "      <td>...</td>\n",
       "      <td>-6683.093987</td>\n",
       "      <td>336.30265</td>\n",
       "      <td>3</td>\n",
       "      <td>-6895.443565</td>\n",
       "      <td>-6703.246976</td>\n",
       "      <td>-6783.662544</td>\n",
       "      <td>-6643.452136</td>\n",
       "      <td>-6362.237206</td>\n",
       "      <td>-6677.608485</td>\n",
       "      <td>178.875721</td>\n",
       "    </tr>\n",
       "    <tr>\n",
       "      <th>3</th>\n",
       "      <td>0.003125</td>\n",
       "      <td>0.006251</td>\n",
       "      <td>0.000000</td>\n",
       "      <td>0.000000</td>\n",
       "      <td>0.000001</td>\n",
       "      <td>{'alpha': 1e-06}</td>\n",
       "      <td>-6258.836206</td>\n",
       "      <td>-6670.842017</td>\n",
       "      <td>-6478.170924</td>\n",
       "      <td>-6741.473686</td>\n",
       "      <td>...</td>\n",
       "      <td>-6683.093987</td>\n",
       "      <td>336.30265</td>\n",
       "      <td>4</td>\n",
       "      <td>-6895.443565</td>\n",
       "      <td>-6703.246976</td>\n",
       "      <td>-6783.662544</td>\n",
       "      <td>-6643.452136</td>\n",
       "      <td>-6362.237206</td>\n",
       "      <td>-6677.608485</td>\n",
       "      <td>178.875721</td>\n",
       "    </tr>\n",
       "    <tr>\n",
       "      <th>4</th>\n",
       "      <td>0.012500</td>\n",
       "      <td>0.006250</td>\n",
       "      <td>0.000000</td>\n",
       "      <td>0.000000</td>\n",
       "      <td>0.00001</td>\n",
       "      <td>{'alpha': 1e-05}</td>\n",
       "      <td>-6258.836206</td>\n",
       "      <td>-6670.842017</td>\n",
       "      <td>-6478.170924</td>\n",
       "      <td>-6741.473686</td>\n",
       "      <td>...</td>\n",
       "      <td>-6683.093987</td>\n",
       "      <td>336.30265</td>\n",
       "      <td>5</td>\n",
       "      <td>-6895.443565</td>\n",
       "      <td>-6703.246976</td>\n",
       "      <td>-6783.662544</td>\n",
       "      <td>-6643.452136</td>\n",
       "      <td>-6362.237206</td>\n",
       "      <td>-6677.608485</td>\n",
       "      <td>178.875721</td>\n",
       "    </tr>\n",
       "  </tbody>\n",
       "</table>\n",
       "<p>5 rows × 21 columns</p>\n",
       "</div>"
      ],
      "text/plain": [
       "   mean_fit_time  std_fit_time  mean_score_time  std_score_time param_alpha  \\\n",
       "0       0.007279      0.001946         0.004017        0.000713           0   \n",
       "1       0.008129      0.005349         0.004323        0.005840         0.0   \n",
       "2       0.009696      0.004100         0.002656        0.001515         0.0   \n",
       "3       0.003125      0.006251         0.000000        0.000000    0.000001   \n",
       "4       0.012500      0.006250         0.000000        0.000000     0.00001   \n",
       "\n",
       "             params  split0_test_score  split1_test_score  split2_test_score  \\\n",
       "0      {'alpha': 0}       -6258.836206       -6670.842017       -6478.170924   \n",
       "1  {'alpha': 1e-08}       -6258.836206       -6670.842017       -6478.170924   \n",
       "2  {'alpha': 1e-07}       -6258.836206       -6670.842017       -6478.170924   \n",
       "3  {'alpha': 1e-06}       -6258.836206       -6670.842017       -6478.170924   \n",
       "4  {'alpha': 1e-05}       -6258.836206       -6670.842017       -6478.170924   \n",
       "\n",
       "   split3_test_score  ...  mean_test_score  std_test_score  rank_test_score  \\\n",
       "0       -6741.473686  ...     -6683.093987       336.30265                1   \n",
       "1       -6741.473686  ...     -6683.093987       336.30265                2   \n",
       "2       -6741.473686  ...     -6683.093987       336.30265                3   \n",
       "3       -6741.473686  ...     -6683.093987       336.30265                4   \n",
       "4       -6741.473686  ...     -6683.093987       336.30265                5   \n",
       "\n",
       "   split0_train_score  split1_train_score  split2_train_score  \\\n",
       "0        -6895.443565        -6703.246976        -6783.662544   \n",
       "1        -6895.443565        -6703.246976        -6783.662544   \n",
       "2        -6895.443565        -6703.246976        -6783.662544   \n",
       "3        -6895.443565        -6703.246976        -6783.662544   \n",
       "4        -6895.443565        -6703.246976        -6783.662544   \n",
       "\n",
       "   split3_train_score  split4_train_score  mean_train_score  std_train_score  \n",
       "0        -6643.452136        -6362.237206      -6677.608485       178.875721  \n",
       "1        -6643.452136        -6362.237206      -6677.608485       178.875721  \n",
       "2        -6643.452136        -6362.237206      -6677.608485       178.875721  \n",
       "3        -6643.452136        -6362.237206      -6677.608485       178.875721  \n",
       "4        -6643.452136        -6362.237206      -6677.608485       178.875721  \n",
       "\n",
       "[5 rows x 21 columns]"
      ]
     },
     "execution_count": 245,
     "metadata": {},
     "output_type": "execute_result"
    }
   ],
   "source": [
    "# list of alpha to tune\n",
    "params = {'alpha': [0, 0.00000001, 0.0000001, 0.000001, 0.00001, 0.0001, 0.001, 0.01, 0.1, 1, 2, 5, 10,\n",
    "                   20, 40, 60, 100]} # I've played around with these\n",
    "\n",
    "# Instantiating the Ridge class\n",
    "ridge = Ridge()\n",
    "\n",
    "# setting the number of cross validation folds\n",
    "folds = 5\n",
    "\n",
    "# Creating the CV grid-search to find an optimal model\n",
    "grid_cv_model = GridSearchCV(estimator=ridge,\n",
    "                       param_grid=params,\n",
    "                       scoring='neg_mean_absolute_error', # Taking the negative MAE since this model is based on cost function\n",
    "                       cv=folds, \n",
    "                       return_train_score=True,\n",
    "                       verbose=1)\n",
    "\n",
    "# fiting the grid-search with the training data\n",
    "grid_cv_model.fit(X_train, y_train)\n",
    "\n",
    "# Saving GridSearchCV results into a dataframe \n",
    "cv_results = pd.DataFrame(grid_cv_model.cv_results_)\n",
    "\n",
    "# cv_results head\n",
    "cv_results.head()"
   ]
  },
  {
   "cell_type": "code",
   "execution_count": 236,
   "id": "066bb6cb",
   "metadata": {},
   "outputs": [
    {
     "data": {
      "image/png": "[encoded data removed]",
      "text/plain": [
       "<Figure size 1152x576 with 1 Axes>"
      ]
     },
     "metadata": {
      "needs_background": "light"
     },
     "output_type": "display_data"
    }
   ],
   "source": [
    "# changing datatype of 'param_alpha' into int for plotting\n",
    "cv_results['param_alpha'] = cv_results['param_alpha'].astype('int32')\n",
    "\n",
    "# plotting\n",
    "plt.figure(figsize=(16,8))\n",
    "plt.plot(cv_results['param_alpha'], cv_results['mean_train_score'])\n",
    "plt.plot(cv_results['param_alpha'], cv_results['mean_test_score'])\n",
    "\n",
    "plt.title('Negative Meam Absolute Error and alpha')\n",
    "plt.xlabel('alpha')\n",
    "plt.ylabel('Negative Meam Absolute Error')\n",
    "plt.legend(['train score','test score'], loc='upper right')\n",
    "\n",
    "plt.show()"
   ]
  },
  {
   "cell_type": "code",
   "execution_count": 235,
   "id": "da7f2215",
   "metadata": {},
   "outputs": [
    {
     "data": {
      "text/plain": [
       "{'alpha': 0}"
      ]
     },
     "execution_count": 235,
     "metadata": {},
     "output_type": "execute_result"
    }
   ],
   "source": [
    "# Finding the optimal alpha from the model\n",
    "grid_cv_model.best_params_"
   ]
  },
  {
   "cell_type": "code",
   "execution_count": null,
   "id": "c7769e3d",
   "metadata": {},
   "outputs": [],
   "source": [
    "# Refine alphas to obtain better model"
   ]
  },
  {
   "cell_type": "code",
   "execution_count": 253,
   "id": "1df55127",
   "metadata": {},
   "outputs": [
    {
     "data": {
      "text/plain": [
       "Ridge(alpha=0)"
      ]
     },
     "execution_count": 253,
     "metadata": {},
     "output_type": "execute_result"
    }
   ],
   "source": [
    "# set the alpha to the best alpha parameter from the grid-search\n",
    "alpha = 0\n",
    "\n",
    "# Initialising Ridge() with above alpha\n",
    "ridge = Ridge(alpha = alpha)\n",
    "\n",
    "#fitting the model with optimal alpha\n",
    "ridge.fit(X_train, y_train)"
   ]
  },
  {
   "cell_type": "code",
   "execution_count": null,
   "id": "1e3f8c45",
   "metadata": {},
   "outputs": [],
   "source": []
  },
  {
   "cell_type": "markdown",
   "id": "100719c6",
   "metadata": {},
   "source": [
    "## Lasso\n",
    "### Cross Validation and Hypermarameter Tuning"
   ]
  },
  {
   "cell_type": "code",
   "execution_count": 238,
   "id": "9fb6087d",
   "metadata": {},
   "outputs": [
    {
     "name": "stdout",
     "output_type": "stream",
     "text": [
      "Fitting 5 folds for each of 13 candidates, totalling 65 fits\n"
     ]
    }
   ],
   "source": [
    "# Initialising Lasso()\n",
    "lasso = Lasso()\n",
    "\n",
    "#usig same attributes used for Ridge tuning except estimator here would be lasso\n",
    "grid_cv_model = GridSearchCV(estimator = lasso,\n",
    "                       param_grid = params,\n",
    "                       scoring = 'neg_mean_absolute_error',\n",
    "                       cv = folds,\n",
    "                       return_train_score = True,\n",
    "                       verbose = 1)\n",
    "#fiting model_cv\n",
    "grid_cv_model.fit(X_train,y_train)\n",
    "\n",
    "# Saving model_cv results into a dataframe\n",
    "cv_results = pd.DataFrame(grid_cv_model.cv_results_)"
   ]
  },
  {
   "cell_type": "code",
   "execution_count": 239,
   "id": "4103c33e",
   "metadata": {},
   "outputs": [
    {
     "data": {
      "image/png": "[encoded data removed]",
      "text/plain": [
       "<Figure size 1152x576 with 1 Axes>"
      ]
     },
     "metadata": {
      "needs_background": "light"
     },
     "output_type": "display_data"
    }
   ],
   "source": [
    "# changing param_alpha datatype to float for plotting\n",
    "cv_results['param_alpha'] = cv_results['param_alpha'].astype('int32')\n",
    "\n",
    "# plotting\n",
    "plt.figure(figsize=(16,8))\n",
    "plt.plot(cv_results['param_alpha'],cv_results['mean_train_score'])\n",
    "plt.plot(cv_results['param_alpha'],cv_results['mean_test_score'])\n",
    "\n",
    "plt.title('Negative Meam Absolute Error and alpha')\n",
    "plt.xlabel('alpha')\n",
    "plt.ylabel('Negative Meam Absolute Error')\n",
    "plt.legend(['train score','test score'],loc='upper left')\n",
    "\n",
    "plt.show()"
   ]
  },
  {
   "cell_type": "code",
   "execution_count": 240,
   "id": "cce19cf0",
   "metadata": {},
   "outputs": [
    {
     "data": {
      "text/plain": [
       "{'alpha': 1e-05}"
      ]
     },
     "execution_count": 240,
     "metadata": {},
     "output_type": "execute_result"
    }
   ],
   "source": [
    "# Checking best alpha from model_cv\n",
    "grid_cv_model.best_params_"
   ]
  },
  {
   "cell_type": "code",
   "execution_count": 251,
   "id": "034ad8e3",
   "metadata": {},
   "outputs": [
    {
     "data": {
      "text/plain": [
       "Lasso(alpha=1e-05)"
      ]
     },
     "execution_count": 251,
     "metadata": {},
     "output_type": "execute_result"
    }
   ],
   "source": [
    "# Seting alpha \n",
    "alpha = 1e-05\n",
    "\n",
    "# Defining lasso with above alpha\n",
    "lasso = Lasso(alpha = alpha)\n",
    "  \n",
    "# fiting lasso\n",
    "lasso.fit(X_train, y_train)"
   ]
  },
  {
   "cell_type": "code",
   "execution_count": null,
   "id": "f97ebd74",
   "metadata": {},
   "outputs": [],
   "source": []
  },
  {
   "cell_type": "markdown",
   "id": "9b688fbf",
   "metadata": {},
   "source": [
    "## ElasticNet Regression\n",
    "### Cross Validation and Hyperparameter Tuning"
   ]
  },
  {
   "cell_type": "code",
   "execution_count": 246,
   "id": "f8418567",
   "metadata": {},
   "outputs": [
    {
     "name": "stdout",
     "output_type": "stream",
     "text": [
      "Fitting 5 folds for each of 17 candidates, totalling 85 fits\n"
     ]
    }
   ],
   "source": [
    "# Initialising ElasticNet()\n",
    "elasticnet = ElasticNet() \n",
    "\n",
    "#using same attributes used for Ridge tuning except estimator here would be ElasticNet\n",
    "grid_cv_model = GridSearchCV(estimator = elasticnet,\n",
    "                       param_grid = params,\n",
    "                       scoring = 'neg_mean_absolute_error',\n",
    "                       cv = folds,\n",
    "                       return_train_score = True,\n",
    "                       verbose = 1)\n",
    "#fitingmodel_cv\n",
    "grid_cv_model.fit(X_train, y_train)\n",
    "\n",
    "# Saving model_cv results into a dataframe\n",
    "cv_results = pd.DataFrame(grid_cv_model.cv_results_)"
   ]
  },
  {
   "cell_type": "code",
   "execution_count": 247,
   "id": "06b73a6f",
   "metadata": {},
   "outputs": [
    {
     "data": {
      "image/png": "[encoded data removed]",
      "text/plain": [
       "<Figure size 1152x576 with 1 Axes>"
      ]
     },
     "metadata": {
      "needs_background": "light"
     },
     "output_type": "display_data"
    }
   ],
   "source": [
    "# change param_alpha datatype to float for plotting\n",
    "cv_results['param_alpha'] = cv_results['param_alpha'].astype('int32')\n",
    "\n",
    "# plotting\n",
    "plt.figure(figsize=(16,8))\n",
    "plt.plot(cv_results['param_alpha'],cv_results['mean_train_score'])\n",
    "plt.plot(cv_results['param_alpha'],cv_results['mean_test_score'])\n",
    "\n",
    "plt.title('Negative Meam Absolute Error and alpha')\n",
    "plt.xlabel('alpha')\n",
    "plt.ylabel('Negative Meam Absolute Error')\n",
    "plt.legend(['train score','test score'],loc='upper left')\n",
    "\n",
    "plt.show()"
   ]
  },
  {
   "cell_type": "code",
   "execution_count": 248,
   "id": "1d9842f9",
   "metadata": {},
   "outputs": [
    {
     "data": {
      "text/plain": [
       "{'alpha': 0}"
      ]
     },
     "execution_count": 248,
     "metadata": {},
     "output_type": "execute_result"
    }
   ],
   "source": [
    "# Checking best  alpha from model_cv\n",
    "grid_cv_model.best_params_"
   ]
  },
  {
   "cell_type": "code",
   "execution_count": 249,
   "id": "0127e9fe",
   "metadata": {},
   "outputs": [
    {
     "data": {
      "text/plain": [
       "ElasticNet(alpha=0)"
      ]
     },
     "execution_count": 249,
     "metadata": {},
     "output_type": "execute_result"
    }
   ],
   "source": [
    "# Seting alpha\n",
    "alpha = 0\n",
    "\n",
    "# Defining ElasticNet with above alpha\n",
    "elasticnet = ElasticNet(alpha = alpha)\n",
    "  \n",
    "# fiting elastic net\n",
    "elasticnet.fit(X_train, y_train)"
   ]
  },
  {
   "cell_type": "code",
   "execution_count": null,
   "id": "5cbfd721",
   "metadata": {},
   "outputs": [],
   "source": []
  },
  {
   "cell_type": "markdown",
   "id": "f8a4cb44",
   "metadata": {},
   "source": [
    "## Model Evaluation\n",
    "Compare all three optomized models via their RMSE"
   ]
  },
  {
   "cell_type": "code",
   "execution_count": 254,
   "id": "192528e9",
   "metadata": {},
   "outputs": [],
   "source": [
    "# Using each of the fit models to predict the test set\n",
    "pred_by_reg = model.predict(X_test)\n",
    "pred_by_lasso =  lasso.predict(X_test)\n",
    "pred_by_ridge = ridge.predict(X_test)\n",
    "pred_by_elasticnet = elasticnet.predict(X_test)"
   ]
  },
  {
   "cell_type": "code",
   "execution_count": 255,
   "id": "5dd2513c",
   "metadata": {
    "scrolled": true
   },
   "outputs": [
    {
     "name": "stdout",
     "output_type": "stream",
     "text": [
      "Reg RMSE: 33708.77399281265\n",
      "Lasso RMSE: 33730.99125435948\n",
      "Ridge RMSE: 33730.99125455468\n",
      "ElasticNet RMSE: 33730.99125455468\n"
     ]
    }
   ],
   "source": [
    "# printing the calculated RMSE for all 3 models\n",
    "print(f'Reg RMSE: {np.sqrt(mse(y_test, pred_by_reg))}')\n",
    "print(f'Lasso RMSE: {np.sqrt(mse(y_test, pred_by_lasso))}')\n",
    "print(f'Ridge RMSE: {np.sqrt(mse(y_test, pred_by_ridge))}')\n",
    "print(f'ElasticNet RMSE: {np.sqrt(mse(y_test, pred_by_elasticnet))}')"
   ]
  },
  {
   "cell_type": "markdown",
   "id": "09febe68",
   "metadata": {},
   "source": [
    "The regular linear regression produced the best model, however they are all incredibly terrible... The best model is off by 33708 likes on the training set on average"
   ]
  },
  {
   "cell_type": "code",
   "execution_count": null,
   "id": "749d40f6",
   "metadata": {},
   "outputs": [],
   "source": [
    "# After selecting the best model (after optomizing input as well), create a function that can be used to predict the \n",
    "# number of dislikes on a YT video given its video id -- probably just in reference to the top N watched in 24 h"
   ]
  }
 ],
 "metadata": {
  "kernelspec": {
   "display_name": "Python 3 (ipykernel)",
   "language": "python",
   "name": "python3"
  },
  "language_info": {
   "codemirror_mode": {
    "name": "ipython",
    "version": 3
   },
   "file_extension": ".py",
   "mimetype": "text/x-python",
   "name": "python",
   "nbconvert_exporter": "python",
   "pygments_lexer": "ipython3",
   "version": "3.11.5"
  }
 },
 "nbformat": 4,
 "nbformat_minor": 5
}
